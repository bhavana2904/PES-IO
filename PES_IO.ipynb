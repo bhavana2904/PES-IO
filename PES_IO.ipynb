{
  "nbformat": 4,
  "nbformat_minor": 0,
  "metadata": {
    "colab": {
      "provenance": [],
      "authorship_tag": "ABX9TyOBoKrpQ1Pe5lxRQxCbck8H",
      "include_colab_link": true
    },
    "kernelspec": {
      "name": "python3",
      "display_name": "Python 3"
    },
    "language_info": {
      "name": "python"
    }
  },
  "cells": [
    {
      "cell_type": "markdown",
      "metadata": {
        "id": "view-in-github",
        "colab_type": "text"
      },
      "source": [
        "<a href=\"https://colab.research.google.com/github/bhavana2904/PES-IO/blob/main/PES_IO.ipynb\" target=\"_parent\"><img src=\"https://colab.research.google.com/assets/colab-badge.svg\" alt=\"Open In Colab\"/></a>"
      ]
    },
    {
      "cell_type": "code",
      "execution_count": null,
      "metadata": {
        "id": "itd-2xlXbl05",
        "colab": {
          "base_uri": "https://localhost:8080/"
        },
        "outputId": "d1c75652-450d-44fa-df17-79e3e1432148"
      },
      "outputs": [
        {
          "output_type": "stream",
          "name": "stdout",
          "text": [
            "Hello world\n"
          ]
        }
      ],
      "source": [
        "print(\"Hello world\")"
      ]
    },
    {
      "cell_type": "code",
      "source": [],
      "metadata": {
        "id": "M9gtPlJ36jkT"
      },
      "execution_count": null,
      "outputs": []
    },
    {
      "cell_type": "code",
      "source": [
        "a = int(input(\"Enter a no: \"))\n",
        "if a%2 == 0:\n",
        "  print(\"No is even\")\n",
        "\n",
        "else:\n",
        "  print(\"Odd no\")"
      ],
      "metadata": {
        "colab": {
          "base_uri": "https://localhost:8080/"
        },
        "id": "tIS-BgxAemsN",
        "outputId": "ed669f52-2295-4f23-8491-b49c1e273a87"
      },
      "execution_count": null,
      "outputs": [
        {
          "output_type": "stream",
          "name": "stdout",
          "text": [
            "Enter a no: 3\n",
            "Odd no\n"
          ]
        }
      ]
    },
    {
      "cell_type": "code",
      "source": [
        "text = input(\"Enter a word: \")\n",
        "vowels = ['a','e','i','o','u']\n",
        "for i in text:\n",
        "         if i in vowels:\n",
        "            print(i)\n",
        "\n",
        "\n"
      ],
      "metadata": {
        "colab": {
          "base_uri": "https://localhost:8080/"
        },
        "id": "K_Y3_OwhgYxf",
        "outputId": "a9aa34b8-c8f7-4347-ca90-af6c48431c99"
      },
      "execution_count": null,
      "outputs": [
        {
          "output_type": "stream",
          "name": "stdout",
          "text": [
            "Enter a word: bhavana\n",
            "a\n",
            "a\n",
            "a\n"
          ]
        }
      ]
    },
    {
      "cell_type": "code",
      "source": [
        "list = [1,1,2,2,2,9]\n",
        "d={}\n",
        "for i in list:\n",
        "  if i in d:\n",
        "    d[i]+=1\n",
        "  else:\n",
        "      d[i]=1\n",
        "      print(d)"
      ],
      "metadata": {
        "colab": {
          "base_uri": "https://localhost:8080/"
        },
        "id": "_uryzxJNiMfv",
        "outputId": "37c82a6d-ffa7-4d68-cbac-d531fdfe31da"
      },
      "execution_count": null,
      "outputs": [
        {
          "output_type": "stream",
          "name": "stdout",
          "text": [
            "{1: 1}\n",
            "{1: 2, 2: 1}\n",
            "{1: 2, 2: 3, 9: 1}\n"
          ]
        }
      ]
    },
    {
      "cell_type": "code",
      "source": [
        "str = \"how much wood could a wood chuck chuck in a wood chuck wood chuck wood\"\n",
        "a = str.split(\" \")\n",
        "b = set(a)\n",
        "print(b)"
      ],
      "metadata": {
        "colab": {
          "base_uri": "https://localhost:8080/"
        },
        "id": "oNz6LkNVmNiz",
        "outputId": "36b062e8-4f28-44a3-af22-02093c5528c5"
      },
      "execution_count": null,
      "outputs": [
        {
          "output_type": "stream",
          "name": "stdout",
          "text": [
            "{'a', 'chuck', 'wood', 'in', 'how', 'could', 'much'}\n"
          ]
        }
      ]
    },
    {
      "cell_type": "code",
      "source": [
        "name1 = input(\"Enter the name: \")\n",
        "Age1 = int(input(\"Enter the age: \"))\n",
        "name2 = input(\"Enter the name: \")\n",
        "Age2 = int(input(\"Enter the age: \"))\n",
        "total = Age1+Age2\n",
        "print(total)\n"
      ],
      "metadata": {
        "colab": {
          "base_uri": "https://localhost:8080/"
        },
        "id": "HFRRLPeZ606Y",
        "outputId": "f8c62c3c-f088-4fb6-8d1c-e9d5a32d5855"
      },
      "execution_count": null,
      "outputs": [
        {
          "output_type": "stream",
          "name": "stdout",
          "text": [
            "Enter the name: Lisa\n",
            "Enter the age: 23\n",
            "Enter the name: Lia\n",
            "Enter the age: 21\n",
            "44\n"
          ]
        }
      ]
    },
    {
      "cell_type": "code",
      "source": [
        "a=int(input(\"Enter a: \"))\n",
        "b=int(input(\"Enter b: \"))\n",
        "c=int(input(\"Enter c: \"))\n",
        "avg=(a+b+c)/3\n",
        "print(\"avg is\",avg)\n"
      ],
      "metadata": {
        "colab": {
          "base_uri": "https://localhost:8080/"
        },
        "id": "8JMBS5PXANJO",
        "outputId": "f0e4d9fc-e7a0-468f-9002-173eb7107bd9"
      },
      "execution_count": null,
      "outputs": [
        {
          "output_type": "stream",
          "name": "stdout",
          "text": [
            "Enter a: 2\n",
            "Enter b: 4\n",
            "Enter c: 8\n",
            "avg is 4.666666666666667\n"
          ]
        }
      ]
    },
    {
      "cell_type": "code",
      "source": [
        "l=2\n",
        "b=4\n",
        "h=5\n",
        "Dimensions = l*b*h\n",
        "print(\"The dimensions of rectangle is:\",Dimensions)"
      ],
      "metadata": {
        "id": "Fjd_vbVkBKTe",
        "outputId": "14adcc97-4d35-4c08-9b55-d542150c7f4c",
        "colab": {
          "base_uri": "https://localhost:8080/"
        }
      },
      "execution_count": null,
      "outputs": [
        {
          "output_type": "stream",
          "name": "stdout",
          "text": [
            "The dimensions of rectangle is: 40\n"
          ]
        }
      ]
    },
    {
      "cell_type": "code",
      "source": [
        "n = int(input(\"Enter a number: \"))\n",
        "sum = (n*(n+1))/2\n",
        "print(\"Sum of natural no is: \",sum)"
      ],
      "metadata": {
        "id": "BGJ4HWJoCVtH",
        "outputId": "2f159bb9-2470-40e4-8247-ff5adeb93909",
        "colab": {
          "base_uri": "https://localhost:8080/"
        }
      },
      "execution_count": null,
      "outputs": [
        {
          "output_type": "stream",
          "name": "stdout",
          "text": [
            "Enter a number: 17\n",
            "Sum of natural no is:  153.0\n"
          ]
        }
      ]
    },
    {
      "cell_type": "code",
      "source": [
        "import pandas as pd"
      ],
      "metadata": {
        "id": "oUC6fUIWMlJw"
      },
      "execution_count": null,
      "outputs": []
    },
    {
      "cell_type": "code",
      "source": [
        "df = pd.read_csv(\"monthly-beer-production-in-austr.csv\")"
      ],
      "metadata": {
        "id": "NN81bqh3MdGX"
      },
      "execution_count": null,
      "outputs": []
    },
    {
      "cell_type": "code",
      "source": [
        "df.head()"
      ],
      "metadata": {
        "id": "Tz9c5NhJM7jt",
        "outputId": "b82c1bca-6a9a-42b0-b8a6-53ab62ebcd65",
        "colab": {
          "base_uri": "https://localhost:8080/",
          "height": 1000
        }
      },
      "execution_count": null,
      "outputs": [
        {
          "output_type": "execute_result",
          "data": {
            "text/plain": [
              "     Month  Monthly beer production\n",
              "0  1956-01                     93.2\n",
              "1  1956-02                     96.0\n",
              "2  1956-03                     95.2\n",
              "3  1956-04                     77.1\n",
              "4  1956-05                     70.9"
            ],
            "text/html": [
              "\n",
              "  <div id=\"df-38e966b4-9e4c-4ac2-a494-4d4f610775b4\" class=\"colab-df-container\">\n",
              "    <div>\n",
              "<style scoped>\n",
              "    .dataframe tbody tr th:only-of-type {\n",
              "        vertical-align: middle;\n",
              "    }\n",
              "\n",
              "    .dataframe tbody tr th {\n",
              "        vertical-align: top;\n",
              "    }\n",
              "\n",
              "    .dataframe thead th {\n",
              "        text-align: right;\n",
              "    }\n",
              "</style>\n",
              "<table border=\"1\" class=\"dataframe\">\n",
              "  <thead>\n",
              "    <tr style=\"text-align: right;\">\n",
              "      <th></th>\n",
              "      <th>Month</th>\n",
              "      <th>Monthly beer production</th>\n",
              "    </tr>\n",
              "  </thead>\n",
              "  <tbody>\n",
              "    <tr>\n",
              "      <th>0</th>\n",
              "      <td>1956-01</td>\n",
              "      <td>93.2</td>\n",
              "    </tr>\n",
              "    <tr>\n",
              "      <th>1</th>\n",
              "      <td>1956-02</td>\n",
              "      <td>96.0</td>\n",
              "    </tr>\n",
              "    <tr>\n",
              "      <th>2</th>\n",
              "      <td>1956-03</td>\n",
              "      <td>95.2</td>\n",
              "    </tr>\n",
              "    <tr>\n",
              "      <th>3</th>\n",
              "      <td>1956-04</td>\n",
              "      <td>77.1</td>\n",
              "    </tr>\n",
              "    <tr>\n",
              "      <th>4</th>\n",
              "      <td>1956-05</td>\n",
              "      <td>70.9</td>\n",
              "    </tr>\n",
              "  </tbody>\n",
              "</table>\n",
              "</div>\n",
              "    <div class=\"colab-df-buttons\">\n",
              "\n",
              "  <div class=\"colab-df-container\">\n",
              "    <button class=\"colab-df-convert\" onclick=\"convertToInteractive('df-38e966b4-9e4c-4ac2-a494-4d4f610775b4')\"\n",
              "            title=\"Convert this dataframe to an interactive table.\"\n",
              "            style=\"display:none;\">\n",
              "\n",
              "  <svg xmlns=\"http://www.w3.org/2000/svg\" height=\"24px\" viewBox=\"0 -960 960 960\">\n",
              "    <path d=\"M120-120v-720h720v720H120Zm60-500h600v-160H180v160Zm220 220h160v-160H400v160Zm0 220h160v-160H400v160ZM180-400h160v-160H180v160Zm440 0h160v-160H620v160ZM180-180h160v-160H180v160Zm440 0h160v-160H620v160Z\"/>\n",
              "  </svg>\n",
              "    </button>\n",
              "\n",
              "  <style>\n",
              "    .colab-df-container {\n",
              "      display:flex;\n",
              "      gap: 12px;\n",
              "    }\n",
              "\n",
              "    .colab-df-convert {\n",
              "      background-color: #E8F0FE;\n",
              "      border: none;\n",
              "      border-radius: 50%;\n",
              "      cursor: pointer;\n",
              "      display: none;\n",
              "      fill: #1967D2;\n",
              "      height: 32px;\n",
              "      padding: 0 0 0 0;\n",
              "      width: 32px;\n",
              "    }\n",
              "\n",
              "    .colab-df-convert:hover {\n",
              "      background-color: #E2EBFA;\n",
              "      box-shadow: 0px 1px 2px rgba(60, 64, 67, 0.3), 0px 1px 3px 1px rgba(60, 64, 67, 0.15);\n",
              "      fill: #174EA6;\n",
              "    }\n",
              "\n",
              "    .colab-df-buttons div {\n",
              "      margin-bottom: 4px;\n",
              "    }\n",
              "\n",
              "    [theme=dark] .colab-df-convert {\n",
              "      background-color: #3B4455;\n",
              "      fill: #D2E3FC;\n",
              "    }\n",
              "\n",
              "    [theme=dark] .colab-df-convert:hover {\n",
              "      background-color: #434B5C;\n",
              "      box-shadow: 0px 1px 3px 1px rgba(0, 0, 0, 0.15);\n",
              "      filter: drop-shadow(0px 1px 2px rgba(0, 0, 0, 0.3));\n",
              "      fill: #FFFFFF;\n",
              "    }\n",
              "  </style>\n",
              "\n",
              "    <script>\n",
              "      const buttonEl =\n",
              "        document.querySelector('#df-38e966b4-9e4c-4ac2-a494-4d4f610775b4 button.colab-df-convert');\n",
              "      buttonEl.style.display =\n",
              "        google.colab.kernel.accessAllowed ? 'block' : 'none';\n",
              "\n",
              "      async function convertToInteractive(key) {\n",
              "        const element = document.querySelector('#df-38e966b4-9e4c-4ac2-a494-4d4f610775b4');\n",
              "        const dataTable =\n",
              "          await google.colab.kernel.invokeFunction('convertToInteractive',\n",
              "                                                    [key], {});\n",
              "        if (!dataTable) return;\n",
              "\n",
              "        const docLinkHtml = 'Like what you see? Visit the ' +\n",
              "          '<a target=\"_blank\" href=https://colab.research.google.com/notebooks/data_table.ipynb>data table notebook</a>'\n",
              "          + ' to learn more about interactive tables.';\n",
              "        element.innerHTML = '';\n",
              "        dataTable['output_type'] = 'display_data';\n",
              "        await google.colab.output.renderOutput(dataTable, element);\n",
              "        const docLink = document.createElement('div');\n",
              "        docLink.innerHTML = docLinkHtml;\n",
              "        element.appendChild(docLink);\n",
              "      }\n",
              "    </script>\n",
              "  </div>\n",
              "\n",
              "\n",
              "<div id=\"df-99803de3-9541-4d01-91ec-c5af68844702\">\n",
              "  <button class=\"colab-df-quickchart\" onclick=\"quickchart('df-99803de3-9541-4d01-91ec-c5af68844702')\"\n",
              "            title=\"Suggest charts.\"\n",
              "            style=\"display:none;\">\n",
              "\n",
              "<svg xmlns=\"http://www.w3.org/2000/svg\" height=\"24px\"viewBox=\"0 0 24 24\"\n",
              "     width=\"24px\">\n",
              "    <g>\n",
              "        <path d=\"M19 3H5c-1.1 0-2 .9-2 2v14c0 1.1.9 2 2 2h14c1.1 0 2-.9 2-2V5c0-1.1-.9-2-2-2zM9 17H7v-7h2v7zm4 0h-2V7h2v10zm4 0h-2v-4h2v4z\"/>\n",
              "    </g>\n",
              "</svg>\n",
              "  </button>\n",
              "\n",
              "<style>\n",
              "  .colab-df-quickchart {\n",
              "      --bg-color: #E8F0FE;\n",
              "      --fill-color: #1967D2;\n",
              "      --hover-bg-color: #E2EBFA;\n",
              "      --hover-fill-color: #174EA6;\n",
              "      --disabled-fill-color: #AAA;\n",
              "      --disabled-bg-color: #DDD;\n",
              "  }\n",
              "\n",
              "  [theme=dark] .colab-df-quickchart {\n",
              "      --bg-color: #3B4455;\n",
              "      --fill-color: #D2E3FC;\n",
              "      --hover-bg-color: #434B5C;\n",
              "      --hover-fill-color: #FFFFFF;\n",
              "      --disabled-bg-color: #3B4455;\n",
              "      --disabled-fill-color: #666;\n",
              "  }\n",
              "\n",
              "  .colab-df-quickchart {\n",
              "    background-color: var(--bg-color);\n",
              "    border: none;\n",
              "    border-radius: 50%;\n",
              "    cursor: pointer;\n",
              "    display: none;\n",
              "    fill: var(--fill-color);\n",
              "    height: 32px;\n",
              "    padding: 0;\n",
              "    width: 32px;\n",
              "  }\n",
              "\n",
              "  .colab-df-quickchart:hover {\n",
              "    background-color: var(--hover-bg-color);\n",
              "    box-shadow: 0 1px 2px rgba(60, 64, 67, 0.3), 0 1px 3px 1px rgba(60, 64, 67, 0.15);\n",
              "    fill: var(--button-hover-fill-color);\n",
              "  }\n",
              "\n",
              "  .colab-df-quickchart-complete:disabled,\n",
              "  .colab-df-quickchart-complete:disabled:hover {\n",
              "    background-color: var(--disabled-bg-color);\n",
              "    fill: var(--disabled-fill-color);\n",
              "    box-shadow: none;\n",
              "  }\n",
              "\n",
              "  .colab-df-spinner {\n",
              "    border: 2px solid var(--fill-color);\n",
              "    border-color: transparent;\n",
              "    border-bottom-color: var(--fill-color);\n",
              "    animation:\n",
              "      spin 1s steps(1) infinite;\n",
              "  }\n",
              "\n",
              "  @keyframes spin {\n",
              "    0% {\n",
              "      border-color: transparent;\n",
              "      border-bottom-color: var(--fill-color);\n",
              "      border-left-color: var(--fill-color);\n",
              "    }\n",
              "    20% {\n",
              "      border-color: transparent;\n",
              "      border-left-color: var(--fill-color);\n",
              "      border-top-color: var(--fill-color);\n",
              "    }\n",
              "    30% {\n",
              "      border-color: transparent;\n",
              "      border-left-color: var(--fill-color);\n",
              "      border-top-color: var(--fill-color);\n",
              "      border-right-color: var(--fill-color);\n",
              "    }\n",
              "    40% {\n",
              "      border-color: transparent;\n",
              "      border-right-color: var(--fill-color);\n",
              "      border-top-color: var(--fill-color);\n",
              "    }\n",
              "    60% {\n",
              "      border-color: transparent;\n",
              "      border-right-color: var(--fill-color);\n",
              "    }\n",
              "    80% {\n",
              "      border-color: transparent;\n",
              "      border-right-color: var(--fill-color);\n",
              "      border-bottom-color: var(--fill-color);\n",
              "    }\n",
              "    90% {\n",
              "      border-color: transparent;\n",
              "      border-bottom-color: var(--fill-color);\n",
              "    }\n",
              "  }\n",
              "</style>\n",
              "\n",
              "  <script>\n",
              "    async function quickchart(key) {\n",
              "      const quickchartButtonEl =\n",
              "        document.querySelector('#' + key + ' button');\n",
              "      quickchartButtonEl.disabled = true;  // To prevent multiple clicks.\n",
              "      quickchartButtonEl.classList.add('colab-df-spinner');\n",
              "      try {\n",
              "        const charts = await google.colab.kernel.invokeFunction(\n",
              "            'suggestCharts', [key], {});\n",
              "      } catch (error) {\n",
              "        console.error('Error during call to suggestCharts:', error);\n",
              "      }\n",
              "      quickchartButtonEl.classList.remove('colab-df-spinner');\n",
              "      quickchartButtonEl.classList.add('colab-df-quickchart-complete');\n",
              "    }\n",
              "    (() => {\n",
              "      let quickchartButtonEl =\n",
              "        document.querySelector('#df-99803de3-9541-4d01-91ec-c5af68844702 button');\n",
              "      quickchartButtonEl.style.display =\n",
              "        google.colab.kernel.accessAllowed ? 'block' : 'none';\n",
              "    })();\n",
              "  </script>\n",
              "</div>\n",
              "    </div>\n",
              "  </div>\n"
            ]
          },
          "metadata": {},
          "execution_count": 8
        },
        {
          "output_type": "display_data",
          "data": {
            "text/plain": [
              "<google.colab._quickchart_helpers.SectionTitle at 0x78120a1f06a0>"
            ],
            "text/html": [
              "<h4 class=\"colab-quickchart-section-title\">Values</h4>\n",
              "<style>\n",
              "  .colab-quickchart-section-title {\n",
              "      clear: both;\n",
              "  }\n",
              "</style>"
            ]
          },
          "metadata": {}
        },
        {
          "output_type": "display_data",
          "data": {
            "text/plain": [
              "import numpy as np\n",
              "from google.colab import autoviz\n",
              "\n",
              "def value_plot(df, y, figscale=1):\n",
              "  from matplotlib import pyplot as plt\n",
              "  df[y].plot(kind='line', figsize=(8 * figscale, 4 * figscale), title=y)\n",
              "  plt.gca().spines[['top', 'right']].set_visible(False)\n",
              "  plt.tight_layout()\n",
              "  return autoviz.MplChart.from_current_mpl_state()\n",
              "\n",
              "chart = value_plot(_df_0, *['Monthly beer production'], **{})\n",
              "chart"
            ],
            "text/html": [
              "      <div class=\"colab-quickchart-chart-with-code\" id=\"chart-4e959ecd-8c21-4693-b252-9fd71d9e964f\">\n",
              "        <img src=\"data:image/png;base64,iVBORw0KGgoAAAANSUhEUgAAAYwAAADECAYAAACMRRb/AAAAOXRFWHRTb2Z0d2FyZQBNYXRwbG90\n",
              "bGliIHZlcnNpb24zLjcuMSwgaHR0cHM6Ly9tYXRwbG90bGliLm9yZy/bCgiHAAAACXBIWXMAAA9h\n",
              "AAAPYQGoP6dpAAAqtElEQVR4nO3deVhTZ94+8DsLCXtQkH0T2QYRFAxFrEK1m7WtFqu07ku1dpl2\n",
              "avt2dCpdrfw6Wn19tdZlKFDtgoq2jlqn1rEuoxVwY9wRhIRdkSUghCzP7w8kEomasJ0A38915So5\n",
              "OTm5E069OdsTHmOMgRBCCHkIPtcBCCGE9AxUGIQQQoxChUEIIcQoVBiEEEKMQoVBCCHEKFQYhBBC\n",
              "jEKFQQghxChUGIQQQoxChUEIIcQoVBiEcwUFBeDxeLh27dp955k9ezamT5/e7teIi4vD0qVL2/38\n",
              "nkitVoPH4+H333/v0textbXt8tcg5oEKo4+Li4sDj8fDxo0b9aYrFArY2dk99B9yU3388cd49NFH\n",
              "O215pPukpqbC09OzzfS6ujrExcV1fyDS7agwCEJCQtoUxpYtW+Dj48NRot6hqanJrJZDSEdRYRA8\n",
              "99xzKC8vx8mTJ3XTvv76a7z66qtt5t27dy8iIyMhkUgQGBiIlStXQqvV6h7n8XhYu3YtRo4cCVtb\n",
              "WwwZMgTHjh0DAHz33XdYvnw5Tpw4AVtbW9ja2uLo0aO65/7nP/9BeHg47OzsEB0djYsXLxrMm5iY\n",
              "iMcee0xvWllZGUQiEc6ePXvf91ldXY34+HjY2dnB398f3377rd7jJ0+eRFxcHBwdHeHj44PExESo\n",
              "1Wrd48XFxZg6dSo8PDzg7OyMl19+GTdu3NA9HhcXhzfffBMvvfQS+vXrh7feestgDl9fX3z00UcY\n",
              "M2YMbG1tERoain/961+6x1v+kv/qq6/g6+sLR0dHAMClS5cwbtw4ODk5wdPTE6+++ipqamp0z6uo\n",
              "qEB8fDwcHBzg5+eH9PR0vdc1tIVw7xZfQ0MDli5disDAQNjZ2cHPzw9paWk4evQoFi5ciJKSEt3v\n",
              "7rvvvgPQ/Dv/7bffdMvoyDpCzBwjfVpsbCz74IMP2Icffshmz57NGGPs6NGjzNvbm+Xl5TEALDc3\n",
              "lzHGWGZmJrOwsGDp6elMpVKx7Oxs5ubmxlavXq1bHgAWFhbGcnNzmUqlYm+//Tbz9vbWPf7RRx+x\n",
              "kSNH6mW4fv06A8DGjh3LSkpKWENDA5s0aRIbPXq0bp5Zs2axadOmMcYYk8lkTCgUsqtXr+oeX7Zs\n",
              "GXvkkUce+D4tLS3Z7t27mUqlYnv37mUWFhbs2LFjjDHGLl++zGxsbNgPP/zAVCoVKygoYGFhYWzZ\n",
              "smWMMcYaGxtZUFAQe/fdd1ldXR1TKBRs+vTp7PHHH9d7DWtra7Z3716m0WhYfX29wSw+Pj7MycmJ\n",
              "HTt2jKlUKvaPf/yDiUQilp+fzxhjLCUlhQkEAjZ//nymUChYfX09q62tZe7u7mzRokWsvr6elZSU\n",
              "sNGjR7MJEybolvvEE0+wp556ilVWVrLKyko2fvx4BoAdOnRIt1wPDw+9LPf+PqZNm8akUim7ePEi\n",
              "02q1rLi4mJ06deq+z2es+Xd+4MABxljnrCPEfFFh9HEthSGXy5mdnR2rqqpiU6dOZZ999pnuH/KW\n",
              "wliwYAGbOHGi3vNXrVrFgoKCdPcBsLS0NN398+fPMwCsrKyMMfbgwjh8+LBu2p49e5iVlZXufuvC\n",
              "YIyx559/nr333nuMMcY0Gg3z8fFhKSkpD3yf8fHxetOmTJnC5s6dyxhj7M9//jN76aWX9B7funUr\n",
              "GzRoEGOMsYyMDObu7s60Wq3u8aKiIgaAyeVy3WvcuwxDfHx82KJFi/SmRUVFsU8//ZQxdrcwWhfO\n",
              "999/z5ycnJhKpdJNO336NAPASktLdVlycnJ0j+fk5JhUGDdu3GAAWFZWlsHcxhRGZ6wjxHwJu3uL\n",
              "hpgnT09PPPbYY1i5ciV+/vlnrFy5EkqlUm8euVyOkJAQvWn+/v6QyWR609zd3XU/29jYAGg+iO7i\n",
              "4vLADPc+r6GhAWq1GkJh29X09ddfx/Tp0/H555/j4MGDqKmpQUJCwgOXP3DgwDb3T58+DQDIzc3F\n",
              "oUOH4ODgoHtcq9XqdqXk5uaivLwc/fr101uGWCyGTCbT7eq59zVMySKXy3X3nZ2dYW1trbsvl8vh\n",
              "4+Oj91n4+/sDAGQyGdidr7VpvVxjs7S4fv06ACAoKMik57XW1esI4RYdwyA6r732GpYvX45x48bB\n",
              "zc2tzeNeXl7Iy8vTm5aXlwdvb2+jX4PP75xV7sknn4REIsHOnTuxceNGzJw5E1ZWVg98TkFBQZv7\n",
              "Lf/Qu7q6YurUqaiurtbdamtrUVdXp3vcx8dH7/Hq6mo0NjYiJibG5Pf3oCyGluPl5QWZTKZ3TKXl\n",
              "d+Ht7a17buvl3vsadnZ2qK+v15tWUlKi+9nX1xcAcPXqVYOZjXlvnbGOEPNFhUF0nnrqKRw4cACr\n",
              "V682+PjcuXOxd+9eZGRkQKPR4MyZM1ixYgUWLFhg9Gu4urpCJpOhsbGxQ1l5PB4WLlyIpKQk7N27\n",
              "1+AB+nvt27cPe/fuhUajwf79+7Fr1y7MmTMHQPMWy44dO7B9+3Y0NTVBo9Hg2rVr2L9/PwAgPj4e\n",
              "KpUKiYmJugPNFRUVbQ4sG+vbb7/FiRMnoFarkZqaijNnzmDatGn3nX/8+PEQCoX429/+hoaGBpSV\n",
              "leGdd97Bc889B1dXV3h4eGDs2LF4//33UVVVhaqqKvztb3/TW8awYcOgUCiQnp4OrVaL33//Hdu3\n",
              "b9c9PmDAALz88st44403cOXKFQBAaWmpbivM1dUVN2/eRGVl5X1zdsY6QswXFQbR4fF4GDt2rMFz\n",
              "7QHgkUcewY4dO/D555+jX79+mDx5Mt566y28/fbbRr9GQkICgoKC4O7uDgcHhw6dHTNnzhxcuXIF\n",
              "I0aMaLMbxJC5c+ciOTkZDg4OeOONN7BhwwaMGjUKACCVSnHgwAFs3rwZHh4ecHR0xIsvvojCwkIA\n",
              "zX+dnzhxAjKZDEOGDIG9vT1iYmJw5MiRdmVfuHAhPvjgAzg4OGDFihXYtWsXBg0adN/57e3tceDA\n",
              "AZw7dw6enp6IjIyEv78/0tLSdPNs3boVIpEIvr6+iIiIaLOLzs/PD+vWrcN7770HBwcHbNy4UVeY\n",
              "LTZv3ozY2FiMGzcOtra2GDlyJC5cuAAAGDNmDCZMmIDAwEA4ODjg+++/b5OzM9YRYr54jNF3epOe\n",
              "SaPRwNvbG3//+98f+Ne5ufH19cXSpUvxyiuvcB2FEJPQFgbpsTZt2gQ+n4/JkydzHYWQPoHOkiI9\n",
              "Tk1NDTw9PSGRSJCSkgKRSMR1JEL6BNolRQghxCi0S4oQQohRqDAIIYQYhQqDEEKIUagwCCGEGMVs\n",
              "CmPNmjVcRyCEEPIAZlMYLVfUEkIIMU9mUxiEEELMGxUGIYQQo1BhEEIIMQoNDdKH1SvVuFquQG55\n",
              "HZRqDWzEQtiIhbAVC2EtEsD2zn0bsRA2IgGEAvr7gpC+jAqjD1BptCi4WY/LZQpcKVPgSnnzf2W3\n",
              "bpu0HLGQ36ZEWgrGRiy4M62ldJrvW4vuPq57rqj5PhUQIT0LFUYvwhhDSU0jrpTV4kpZHa6U1eJy\n",
              "mQL5N+rRpNEafM4AOzGCXOxgKxaivkmNeqUa9UoN6pRq3X2Vpnm4MaVaC6W6CZX1TZ2St3UBtd6i\n",
              "adnCuVtGzQVkLRK2LSixELZUQIR0C5MLY//+/Vi6dCmamppgbW2NjRs3Ijw8HHFxcSgsLIREIgEA\n",
              "zJo1C++8806nBybNam6rcLmsFlfKFbhcpsDVO1sOika1wfltRAIEutoh2NUOQS52CHK1R5CrHfrb\n",
              "PHyk1ya1FvVKtV6J1Cs1d6cp1ahv0tyZrkbdncfuLaDbTc0/t5RXVxSQTUuZiISttoYErbZ8hLBu\n",
              "2doxNO1OAVmLBbCgAiJEj0mFUVVVhWnTpuHIkSMYPHgwjh49imnTpuH8+fMAgNWrV2PixIldkbPP\n",
              "alRpcK2iTrcrqXm3Ui3Ka5UG5xfyeRg0wBZBrnbNN5fm/3r2swKPx2tXBpGQD5FQhH5GlIsxWhfQ\n",
              "7SbN3dK5z7SWMro7TaNXRvcW0K36hwQwkki3BXS3cHS720StykgsxOiAAQj1kHTOCxNipkwqjLy8\n",
              "PDg6OmLw4MEAgFGjRkEmk+m+85e0n0bLILt1W7cb6eqdcii4WQ/tfQag93Cwat5iuHMLdrXHQCcb\n",
              "iITm/ZdxVxVQfVOr3Wl3tmjq7tkSal1GLeV0bxm1FFCTWotbRhbQ6gNXkTY3CjGDnDrlPRFijkwq\n",
              "jICAAFRWVuL48eOIiYnB7t27oVAoUFBQAABYvHgxEhMTERISgqSkJPj5+RlcjlKphFKp/xeyRqNp\n",
              "3zvoYRhjuKFQ6pXClTIFcisUaFQZPs7Qz9pCVwiBd7YYAl1sYWdp0c3pzVNXFFBz2dy7O83w7rbz\n",
              "xTXILqzCq1tOYfvCEQh2te+UHISYG5MKQyKRYMeOHViyZAnq6uowYsQIhISEQCgUYsuWLfDy8gJj\n",
              "DF999RWeffZZXLx40eBykpKS8Mknn+hNi46Obv+7MFN1SnXzrqQ7u5Fazk6quq0yOL9YyNcVQnCr\n",
              "XUoD7MTt3p1ETNdSQA7WxhVQo0qDmcmZyCy4hdnfZGHXGzFwk1h1cUpCul+HvnFPqVTC1dUVWVlZ\n",
              "8Pf313vM0tISxcXFcHR0NPi8e7cwEhMTe+wAhE1qLfJv1rUqh+bjDUVVDQbn5/MAXycbBLvaIdCl\n",
              "pRzs4d3fGgI+FUNPVH27CS9uOIFrFXUIcrHD9tdGwJ62AEkvY/JZUqWlpXBzcwMAfPbZZxgzZgx8\n",
              "fX1RXl4OFxcXAEBGRgZcXFwMlgUAiMViiMVivWkCgcDUKN2OMYaiqga9axmulCmQf7NOd+rpvVzs\n",
              "xQhytW91dpId/J1tYWlh/u+XGM/BWoTUOVLErz+OK+UKvPrtKaTOlUIspN8z6T1MLowPP/wQR48e\n",
              "hVqtxogRI5CcnAylUonx48dDqVSCz+fDyckJu3fv7oq83eZWfZPerqTLZc1XRNcpDZ+2aicWNh9b\n",
              "0Dt11c7o3Rqk5/PsZ42UOVIkbPwDJ/Ir8T/bc/C/CUPBp61G0kuYXBibN282OD07O7vDYbjQ0KRB\n",
              "boX+tQyXyxS4oTB82qqFoPm01ZbdSEGutghytYe7xJKOMxAMdpfg6+kRmJOShd3nSuDmYIkl4/7E\n",
              "dSxCOkWfudJbrdGi8NZtXCm7ey3D1fI6FFTW435Hcbz7W7c6xtD8X18nG7qgizzQqIAB+GJSGN7d\n",
              "fg4bD+fDXWKFWTG+XMcipMN6XWEwxlBeq2y+CrrVsYbcijo0qQ2ftupoI2pzoVugix1sxL3u4yHd\n",
              "ZFKkJ8pqG7HiX1fw8T8vwMXeEk+HunIdi5AO6fH/IlbUNuLXi+V6ZyfVNBg+bdXKQoBAl5aroO11\n",
              "ZykNsBMbnJ+Qjng9bhCKqxvw/UkZ3v7xDL6f/wgiffpzHYuQduvxhSGvasDSn87rTRPweRjoZKO3\n",
              "xRDsagevftZ0AJJ0Gx6Ph0+fH4yK2kb8dqkC89KykfFaDAYNsOU6GiHt0uMLI8jVDnFBA3SlEOhi\n",
              "h0ED6LRVYh6EAj7+7+VheHnzSZyTV2PWN5nY+XoMnO0suY5GiMl6fGHYioVInRPFdQxC7staJMQ3\n",
              "s4Zj0tfHUVB5G3NTs5C+YAQdIyM9Dp3uQ0g3cLQVI3VOFBxtRDhfXIvXvzsN1X2+o4QQc0WFQUg3\n",
              "8XWyQfJsKawsBDh89QY+2PVfdGBkHkK6HRUGId1oqJcD1k0dBj4P2JZdhP/9LZfrSIQYjQqDkG42\n",
              "9k8uWDZxCABgzcFc/Jgp4zgRIcahwiCEA1Mf8cafxzSP8PzBT+dx6HIFx4kIeTgqDEI4suiJQEyK\n",
              "8IRGy/D6d6eRU1TNdSRCHogKgxCO8Hg8/L9JQzAqwAkNKg3mpmZBVnmb61iE3BcVBiEcshDw8fX0\n",
              "SIS42eNmXRNmpWTiVn0T17EIMYgKgxCONV98KoWHgxWu36zHvLQsNDT1je+4Jz0LFQYhZsDZ3hJp\n",
              "c6WQWFngjKwab/94BhotXaNBzIvJhbF//34MHz4cYWFhiI6Oxrlz5wAAFRUVePrppxEQEIDQ0FAc\n",
              "OXKk08MS0pv5O9vhH7OGQyTk49eL5fh49wW6sI+YFZMKo6qqCtOmTUNaWhpycnKwYsUKTJs2DQCw\n",
              "ePFiREdHIzc3FykpKZg6dSpUKsPDjBNCDJP69seahKHg8YAtfxRiw+F8riMRomNSYeTl5cHR0RGD\n",
              "Bw8GAIwaNQoymQynT5/Gtm3bsHDhQgCAVCqFu7s7Dh8+3PmJCenlxg1xQ+L4EADAF/sv46czxRwn\n",
              "IqSZSYUREBCAyspKHD9+HACwe/duKBQKXL9+HSqVCq6ud79RzNfXFzKZ4StYlUolamtr9W4aDR3k\n",
              "I6TF3EcHYv6ogQCA/9lxDv+5dpPjRISYWBgSiQQ7duzAkiVLEBkZiV9//RUhISGoq6sz6UWTkpIg\n",
              "kUj0bpmZmSYtg5Debsm4P+HZMDeoNAwLt5zCpdJariORPo7HOnBUTalUwtXVFVlZWQgPD0deXp5u\n",
              "KyMqKgrLly/H448/bvB5SqVSb1piYiLWrFnT3iiE9EpKtQYzkzNx8votuNiLsev1kXB3sOI6Fumj\n",
              "TD5LqrS0VPfzZ599hjFjxsDf3x+TJ0/Ghg0bAABZWVkoLi5GbGyswWWIxWLY29vr3QQC+oY8Qu4l\n",
              "FgqwaeZwBLrYorxWidkpmff9znpCuprJhfHhhx8iODgY/v7+KCwsRHJyMgDgiy++wPHjxxEQEIDZ\n",
              "s2dj69atsLCw6PTAhPQ1EisLpM6Jgou9GFfL67Dg22wo1XTMj3S/Du2S6kyLFi3CqlWruI5BiNm6\n",
              "VFqLyRtOoE6pxrNhbvi/l4aBz+dxHYv0IXSlNyE9xJ/c7LFxRiQsBDzsySlF0i+XuI5E+hgqDEJ6\n",
              "kJH+TljxYjgAYPPR6/jm2HWOE5G+hAqDkB5m4jAPvP90EADgs70X8ct/Sx/yDEI6BxUGIT3Qa7GD\n",
              "MCPaB4wBb6efRVbBLa4jkT6ACoOQHojH4+Hj5wfjiRAXNKm1eCUtG9cqFFzHIr0cFQYhPZSAz8P/\n",
              "vTQMw7wdUNOgwqxvslBR28h1LNKLUWEQ0oNZiQRIniXFQCcbFFc3YE5qFuqUaq5jkV6KCoOQHq6/\n",
              "jQhpc6LgZCvChZJavLb1FFQaLdexSC9EhUFIL+DtaI1vZkthZSHA0dybWJzxX/ryJdLpqDAI6SXC\n",
              "PB2wfloEBHweMk4XYdWBq1xHIr0MFQYhvchjwc5Y/kIoAGDtv6/h+5OGv5OGkPagwiCkl0mQeuPt\n",
              "sQEAgKU//RcHL5VznIj0FlQYhPRCf3k8AFOGe0LLgDe/P4Oz8mquI5FegAqDkF6Ix+Ph8xeGIDZw\n",
              "ABpUGsxLzULBzXquY5EejgqDkF7KQsDH+mkRCPWwR2V9E2anZKKyTvnwJxJyH1QYhPRiNmIhvpkt\n",
              "hWc/KxRU3sbctGw0NNGXL5H2Mbkw9u3bh4iICAwdOhShoaFIS0sDAMTFxWHgwIEYOnQohg4ditWr\n",
              "V3d6WEKI6ZztLJE2NwoO1hY4J6/Gn384DTVd2EfaQWjKzIwxTJ8+Hb///jvCwsJQUFCA4OBgxMfH\n",
              "AwBWr16NiRMndkVOQkgHDBpgi+RZwzF180n8dqkCH+6+gM8nhoLHo2/sI8YzeQuDx+OhuroaAFBb\n",
              "WwtHR0eIxeLOzkUI6WSRPv2x5qVh4PGA70/KsP73PK4jkR7GpMLg8XhIT09HfHw8fHx88OijjyIt\n",
              "LQ0ikQgAsHjxYgwZMgQJCQnIz8+/73KUSiVqa2v1bhoN7VclpKs9HeqKj58bDABY8a8ryDhVxHEi\n",
              "0pOYVBhqtRrLli3Dzp07UVhYiIMHD2LGjBm4efMmtmzZgsuXLyMnJwejRo3Cs88+e9/lJCUlQSKR\n",
              "6N0yMzM7/GYIIQ83K8YXr8b6AQD+mpGDo7k3OE5EegqTCuPs2bMoKSnB6NGjAQBSqRSenp44c+YM\n",
              "vLy8ADRvhbz55pvIz89HZWWlweUsWbIENTU1ereoqKgOvhVCiLH++lQwng93h1rL8NrW07hQUsN1\n",
              "JNIDmFQYXl5eKC0txaVLlwAA165dQ15eHoKCglBefnf4gYyMDLi4uMDR0dHgcsRiMezt7fVuAoGg\n",
              "A2+DEGIKPp+HFZPDMMLPEXVKNeakZKGo6jbXsYiZM+ksKRcXF2zatAlTpkwBn8+HVqvFunXr4Ojo\n",
              "iNjYWCiVSvD5fDg5OWH37t1dlZkQ0gnEQgE2zIjElA0ncKVcgdkpWdixcAQcrEVcRyNmisfMZND8\n",
              "RYsWYdWqVVzHIKTPKa1pwAtfHUdZbSOifPvj23lRsLSgLX7SFl3pTUgf5yaxQupcKezEQmQW3MK7\n",
              "285BqzWLvyOJmaHCIIQg2NUeG2dGQiTgY+9/S/H5vktcRyJmiAqDEAIAiBnkhBWTwwAAyceu4x9H\n",
              "738tFembqDAIIToThnpgybhgAMCyvZewJ6eE40TEnFBhEEL0LBjth9kxvgCARenncDLf8PVUpO+h\n",
              "wiCE6OHxeEh8NgRPDXZBk0aL+d9m42q5gutYxAxQYRBC2hDweVjz0jBE+vRDbaMas7/JRHltI9ex\n",
              "CMeoMAghBllaCPCPmcPhN8AGJTWNmPVNJhSNKq5jEQ5RYRBC7qufjQhpc6LgZCvG5TIFXtt6Gk1q\n",
              "+vKlvooKgxDyQF79rZE6RwprkQDHrt3E4owcmMkAEaSbUWEQQh4q1EOC9dMiIODzsPNMMVb+eoXr\n",
              "SIQDVBiEEKPEBTkjKX4IAOCrQ3nY+kchx4lId6PCIIQYbcpwL7zzeCAA4MOfz+PXC2UcJyLdiQqD\n",
              "EGKSt8b64yWpF7QMeOvHMzgtq+I6EukmVBiEEJPweDwsmxiKx4IGoFGlxStp2bh+s57rWKQbUGEQ\n",
              "QkwmFPCxbmoEwjwluFXfhFnfZOJmnZLrWKSLmVwY+/btQ0REBIYOHYrQ0FCkpaUBACoqKvD0008j\n",
              "ICAAoaGhOHLkSKeHJYSYDxuxEMmzpPDubw3ZrduYl5qF201qrmORLmRSYTDGMH36dKSmpuLs2bPY\n",
              "s2cPXn31VSgUCixevBjR0dHIzc1FSkoKpk6dCpWKrgolpDcbYCdG6hwp+llb4FxRDd78/gzUGrqw\n",
              "r7cyeQuDx+OhuroaAFBbWwtHR0eIxWJs27YNCxcuBABIpVK4u7vj8OHDnRqWEGJ+/AbYInm2FGIh\n",
              "H/++XIHEn8/ThX29lNCUmXk8HtLT0xEfHw8bGxtUVVVh586dUCgUUKlUcHV11c3r6+sLmUxmcDlK\n",
              "pRJKpf7+To1G0474hBBzEOHdD2tfHoaFW0/hh0w53CRWeGtsANexSCczaQtDrVZj2bJl2LlzJwoL\n",
              "C3Hw4EHMmDEDarVp+y2TkpIgkUj0bpmZmSYtgxBiXp4c7IpPJoQCAFYduIrt2XKOE5HOZlJhnD17\n",
              "FiUlJRg9ejSA5l1Pnp6eyMnJgVAoRFnZ3Yt4CgoK4O3tbXA5S5YsQU1Njd4tKiqqA2+DEGIOZkT7\n",
              "4LW4QQCAJTv/i8NXb3CciHQmkwrDy8sLpaWluHSp+Qvir127hry8PAQFBWHy5MnYsGEDACArKwvF\n",
              "xcWIjY01uByxWAx7e3u9m0Ag6OBbIYSYg/efCsILwzyg1jK8vvUUzhfXcB2JdBKTjmG4uLhg06ZN\n",
              "mDJlCvh8PrRaLdatWwdvb2988cUXmDFjBgICAiASibB161ZYWFh0VW5CiJni8Xj4YlIYKhSN+M+1\n",
              "SsxJzcLO12Lg1d+a62ikg3jMTE5nWLRoEVatWsV1DEJIJ6ltVGHKhhO4XKaA3wAb7HwtBg7WIq5j\n",
              "kQ6gK70JIV3C3tICqXOi4C6xRP6NerySlo1GFZ0N2ZNRYRBCuoyrxBKpc6NgbylEdmEV/vLjWWi0\n",
              "ZrFTg7QDFQYhpEsFuthh08zhEAn42H+hDJ/tuUgX9vVQVBiEkC4X7eeIL6eEAwBSjxdg89F8jhOR\n",
              "9qDCIIR0i+fC3bF0/J8AAMv3XcbucyUcJyKmosIghHSbeY8OxJyRvgCA97adw4m8Sm4DEZNQYRBC\n",
              "ug2Px0Pi+BA8M8QVTRotFmzJxpUyBdexiJGoMAgh3YrP52HVlKGQ+vaDolGN2SmZKK1p4DoWMQIV\n",
              "BiGk21laCLB55nD4O9uitKYRL3x1HGt+y0VJNRWHOaPCIIRwwsFahNQ5Ung4WKGsthGrf7uKkV/8\n",
              "GzO/ycTenFIo1XSRn7kxaSwpQgjpTJ79rHHw3Vj8cr4U6Vly/JF/C0eu3sCRqzfQ30aEF4Z5IEHq\n",
              "hUAXO66jEtBYUoQQM1Jwsx7bT8mx41QRymvvfsnaUC8HJEi98Fy4O2zF9HcuV6gwCCFmR63R4kju\n",
              "DfyYKce/L1dAfWc4ESsLAcaHuSFB6oXhPv3A4/E4Ttq3UFUTQsyOUMDHmGAXjAl2wQ2FEjtPFyE9\n",
              "W478G/XYcaoIO04VwW+ADaYM98KkCE8MsBNzHblPoC0MQkiPwBjDqcIqpGfJsSenFA13Rr4V8nkY\n",
              "E+yMBKkXYgMHQCigc3m6ChUGIaTHqVOqsedcCdKz5Tgjq9ZNd7YT48VIT0wZ7gVfJxvuAvZSJhVG\n",
              "ZWUlxo4dq7t/+/Zt5Ofno6KiAvHx8SgsLIREIgEAzJo1C++8847RQagwCCHtcbVcgW1Zcuw8U4xb\n",
              "9U266Y8M7I8EqRfGhbrBSkRfAd0ZOrSFsXLlShw+fBj//Oc/ERcXh7/85S+YOHFiu5ZFhUEI6Ygm\n",
              "tRa/XSpHepYcR3JvoOVfNjtLIZ4Pd0eC1AtDPCR0oLwDOnTQOzk5GUlJSZ2VhRBC2k0k5OOZIW54\n",
              "ZogbSqobsONUEbZly1FU1YDvTsrw3UkZgl3t8JLUCxOHedDXxbZDu7cwjh8/jvj4eBQVFUEoFCIu\n",
              "Lg5lZWWwsLBASEgIkpKS4OfnZ/C5SqUSSqVSb1piYiLWrFnTniiEEGKQVstwIr8S6Vly7L9Qhia1\n",
              "FkBzuTw12BUJw70QM8gRfD5tdRij3YUxb948ODo64u9//zsAQC6Xw8vLC4wxfPXVV1i/fj0uXrxo\n",
              "8Lkff/wxPvnkE71p0dHROHHiRHuiEELIQ1XfbsLPZ0uQniXHxdJa3XTPflaYHOmFycM94e5gxWFC\n",
              "89euwqirq4ObmxuysrIQHBxscB5LS0sUFxfD0dGxzWO0hUEI4dL54hqkZ8nx09liKBrVAAAeDxgV\n",
              "MAAJw73weIgzxEI6UH6vdh3DSE9PR3h4uK4s1Go1Kisr4eLiAgDIyMiAi4uLwbIAALFYDLFY/0Ib\n",
              "gYB+OYSQ7hHqIUGohwQfjP8T9p8vQ3qWHCfyK3XjWPWztsALwzyRIPVCkCuNY9WiXYWRnJyM+fPn\n",
              "6+4rlUqMHz8eSqUSfD4fTk5O2L17d6eFJISQrmBpIcDEYR6YOMwDhZX12JZ9dxyrb/5zHd/857pu\n",
              "HKtnw9xgZ2nBdWRO0YV7hBDSSss4VulZchy8RONYtUZjSRFCSCv3jmO160wR0rPkyDMwjlV8hAec\n",
              "7Sy5jtxtaAuDEEIegjGG07K741jdbmoex0rQMo7VcC/EBfX+cayoMAghxAR1SjX25pTgx6y241hN\n",
              "ujOO1cBeOo4VFQYhhLRTbrkC6X1oHCsqDEII6aAmtRYHL5UjPVuOI1dvQNsyjpVYiOeH9p5xrOig\n",
              "NyGEdJBIyMe4IW4YN8QNpTUN2JFdhG2n5JDf0h/HKkHqhRd68DhWtIVBCCFdQKtl+CO/EunZcvxy\n",
              "vtU4VgI+nhzsggSpF0YOcupR41jRFgYhhHQBPp+HGH8nxPg74dPbKvx0tlg3jtWenFLsySmFh4MV\n",
              "pgz3wovDPeHRA8axoi0MQgjpRj15HCvawiCEkG7Uk8exoi0MQgjhWGFlPbZnN19FXlbbqJse7uWA\n",
              "hOFeeC7cPMaxosIghBAzodEyHLnaPI7Vb5fK9caxemZI8zhWUl/uxrGiXVKEEGImBHweHgt2xmPB\n",
              "zrhZp8Su08VIz5bjWkUdMk4XIeN0EfycbDBFys04VrSFQQghZsycxrGiwiCEkB6iZRyr9Cw5Tt8z\n",
              "jtX386Ph72zbpa9Pu6QIIaSHsBULkSD1RoLUG7nlCmzLlmPn6WJoGeDjaN3lr29SYVRWVmLs2LG6\n",
              "+7dv30Z+fj4qKiqgVqsxc+ZM5OXlQSwWY/369Rg9enSnByaEEAIEuNjhg/Eh+J+nglFQWQ+Lbtgl\n",
              "ZVJhODo64uzZs7r7K1euxOHDh9G/f3/MnTsX0dHR2L9/P7KysvDCCy/g+vXrsLDg/lQwQgjprURC\n",
              "PgJduud6jQ5VUnJyMubNmwcA2LZtGxYuXAgAkEqlcHd3x+HDhzuekBBCiFlo9zGM48ePo6qqCs8+\n",
              "+ywqKyuhUqng6uqqe9zX1xcymczgc5VKJZRKpd40jUbT3iiEEEK6Qbu3MJKTkzFz5kwIhaZ3TlJS\n",
              "EiQSid4tMzOzvVEIIYR0g3adVltXVwc3NzdkZWUhODgYAGBjY4O8vDzdVkZUVBSWL1+Oxx9/vM3z\n",
              "DW1hzJw5E35+fu15D9BoNMjMzERUVBQEAvMbtIvydQzl6xjK1zF9IZ+Pjw/efvvth87XrsJITk5G\n",
              "SkoKjh07pps2e/Zs+Pr64uOPP0ZWVhYmTpyIgoKCbjnoXVtbC4lEgpqaGtjb23f565mK8nUM5esY\n",
              "ytcxlO+udh3DSE5Oxvz58/WmffHFF5gxYwYCAgIgEomwdetWOkOKEEJ6kXYVxvHjx9tMc3Fxwa+/\n",
              "/trhQIQQQsxT11/pQQghpFfoFYUhFovx0UcfQSwWcx3FIMrXMZSvYyhfx1C+u8xm8EFCCCHmrVds\n",
              "YRBCCOl6VBiEEEKMQoVBCCHEKD2qMHJzcxETE4PAwEBIpVJcuHDB4HzJyckICAjAoEGDMH/+fKhU\n",
              "KrPJ9/vvv8PKygpDhw7V3RoaGro821tvvQVfX1/weDy9EYfvxdVnZ0w+rj47AGhsbMTEiRMRGBiI\n",
              "8PBwPPHEE7h27ZrBeffs2YPg4GAEBAQgPj4etbW1ZpOvoKAAAoFA7zPMy8vr8nwA8OSTTyIsLAxD\n",
              "hw7FqFGjcObMGYPzcbUOGpOPy3WwRUpKCng8Hn766SeDj3fp+sd6kMcee4ylpKQwxhjbvn07Gz58\n",
              "eJt58vPzmZubGystLWVarZY999xzbN26dWaT79ChQyw8PLxb8rR2+PBhJpfLmY+PDztz5ozBebj8\n",
              "7IzJx9VnxxhjDQ0NbO/evUyr1TLGGFu7di2LjY1tM59CoWDOzs7s0qVLjDHG3njjDfbee++ZTb7r\n",
              "168ziUTS5XkMqaqq0v28c+dOFhYW1mYeLtdBY/JxuQ4y1vz7GzFiBIuOjma7du1q83hXr389Zguj\n",
              "oqIC2dnZmD59OgBg0qRJkMvlbf6K2rFjB55//nm4urqCx+Nh4cKF+OGHH8wmH1dGjx4NT0/PB87D\n",
              "1WdnbD4uWVpa4plnngGPxwMAREdHo6CgoM18v/zyC4YNG6YbY+3111/vls/Q2HxccnBw0P1cU1Oj\n",
              "y9oal+ugMfm4pNVq8corr2Dt2rX3PYW2q9e/HlMYcrkcbm5uutFxeTwevL292wyhLpPJ4OPjo7v/\n",
              "oGHWucgHAHl5eYiIiIBUKsX69eu7PJuxuPrsTGEun92aNWswYcKENtMNfYalpaVQq9XdGe+++QCg\n",
              "vr4eUqkUERER+PTTT7v1qwVmzpwJLy8vJCYmYsuWLW0e53odfFg+gLt1cNWqVRg5ciQiIyPvO09X\n",
              "r3/0nd7dLCIiAkVFRZBIJCgqKsIzzzwDJycnTJkyhetoZs9cPrvly5fj2rVrOHjwYLe+rrEelM/N\n",
              "zQ3FxcVwdnbGrVu3kJCQgC+//BLvv/9+t2T79ttvAQBpaWn461//in379nXL6xrrYfm4WgfPnz+P\n",
              "jIwMHDlypEtf52F6zBaGl5eXXlMyxiCTyeDt7a03n7e3NwoLC3X3CwoK2szDZT57e3tIJBIAgKen\n",
              "J15++WUcPXq0y/MZg6vPzljm8NmtXLkSO3fuxC+//AJra+s2jxv6DFtveXKdTywWw9nZGQB0X63M\n",
              "xfo3a9YsHDp0CJWVlXrTzWUdvF8+rtbBo0ePoqCgAAEBAfD19cUff/yBBQsW4Ouvv9abr8vXv047\n",
              "GtINYmNj9Q4qR0ZGtpknLy+vzUGztWvXmk2+kpISptFoGGOM1dbWspiYGJacnNwt+RhjDzyozOVn\n",
              "Z0w+rj+7L7/8kkVERLBbt27dd57a2lo2YMAAvYOO7777rtnkKy8vZ01NTYwxxhobG9mLL77IEhMT\n",
              "uzxbVVUVKy4u1t3ftWsX8/Dw0B2kb8HVOmhsPq7XwRaxsbEGD3p39frXowrj8uXLLDo6mgUEBLDI\n",
              "yEiWk5PDGGNs3rx57Oeff9bNt2nTJubn58f8/PzY3Llzdf+DmEO+tWvXspCQEBYWFsZCQkLYRx99\n",
              "1Gal7AoLFixgHh4eTCAQMGdnZzZo0KA22Rjj7rMzJh9Xnx1jjMnlcgaA+fn5sfDwcBYeHs6ioqIY\n",
              "Y4wlJiayr7/+Wjfvzz//zIKCgtigQYPYhAkTWHV1tdnky8jIYIMHD9Z9hm+++SZrbGzs8nwFBQVM\n",
              "KpWy0NBQFhYWxsaOHav7w8Ac1kFj83G5DrbWujC6c/2jsaQIIYQYpcccwyCEEMItKgxCCCFGocIg\n",
              "hBBiFCoMQgghRqHCIIQQYhQqDEIIIUahwiCEEGIUKgxCCCFGocIghBBiFCoMQgghRqHCIIQQYpT/\n",
              "Dw0/z/4N5nZtAAAAAElFTkSuQmCC\n",
              "\">\n",
              "        \n",
              "      </div>\n",
              "      <script></script>\n",
              "      <script type=\"text/javascript\">\n",
              "        (() => {\n",
              "          const chartElement = document.getElementById(\"chart-4e959ecd-8c21-4693-b252-9fd71d9e964f\");\n",
              "          async function getCodeForChartHandler(event) {\n",
              "            const chartCodeResponse =  await google.colab.kernel.invokeFunction(\n",
              "                'getCodeForChart', [\"chart-4e959ecd-8c21-4693-b252-9fd71d9e964f\"], {});\n",
              "            const responseJson = chartCodeResponse.data['application/json'];\n",
              "            await google.colab.notebook.addCell(responseJson.code, 'code');\n",
              "          }\n",
              "          chartElement.onclick = getCodeForChartHandler;\n",
              "        })();\n",
              "      </script>\n",
              "      <style>\n",
              "        .colab-quickchart-chart-with-code  {\n",
              "            display: block;\n",
              "            float: left;\n",
              "            border: 1px solid transparent;\n",
              "        }\n",
              "\n",
              "        .colab-quickchart-chart-with-code:hover {\n",
              "            cursor: pointer;\n",
              "            border: 1px solid #aaa;\n",
              "        }\n",
              "      </style>"
            ]
          },
          "metadata": {}
        },
        {
          "output_type": "display_data",
          "data": {
            "text/plain": [
              "<google.colab._quickchart_helpers.SectionTitle at 0x78120a33bdf0>"
            ],
            "text/html": [
              "<h4 class=\"colab-quickchart-section-title\">Distributions</h4>\n",
              "<style>\n",
              "  .colab-quickchart-section-title {\n",
              "      clear: both;\n",
              "  }\n",
              "</style>"
            ]
          },
          "metadata": {}
        },
        {
          "output_type": "display_data",
          "data": {
            "text/plain": [
              "import numpy as np\n",
              "from google.colab import autoviz\n",
              "\n",
              "def histogram(df, colname, num_bins=20, figscale=1):\n",
              "  from matplotlib import pyplot as plt\n",
              "  df[colname].plot(kind='hist', bins=num_bins, title=colname, figsize=(8*figscale, 4*figscale))\n",
              "  plt.gca().spines[['top', 'right',]].set_visible(False)\n",
              "  plt.tight_layout()\n",
              "  return autoviz.MplChart.from_current_mpl_state()\n",
              "\n",
              "chart = histogram(_df_1, *['Monthly beer production'], **{})\n",
              "chart"
            ],
            "text/html": [
              "      <div class=\"colab-quickchart-chart-with-code\" id=\"chart-7c25c434-51c6-4d27-8b7a-a1926c72e980\">\n",
              "        <img src=\"data:image/png;base64,iVBORw0KGgoAAAANSUhEUgAAAYwAAADECAYAAACMRRb/AAAAOXRFWHRTb2Z0d2FyZQBNYXRwbG90\n",
              "bGliIHZlcnNpb24zLjcuMSwgaHR0cHM6Ly9tYXRwbG90bGliLm9yZy/bCgiHAAAACXBIWXMAAA9h\n",
              "AAAPYQGoP6dpAAAcT0lEQVR4nO3deVgU5x0H8O8CskG5FFRABNQFrBeKwRDxQK31SsDifSSKUSBq\n",
              "tdU8NsYTNWKqjyZtakXlUSOJJQFteMAjxkcjRusZNd6A4IKiKCqgBeR4+wd16srhLOzIun4/z7PP\n",
              "w7wz+87vdRa+zrEzKiGEABER0QuYNXQBRET0amBgEBGRLAwMIiKShYFBRESyMDCIiEgWBgYREcnC\n",
              "wCAiIlkYGEREJAsDg4iIZGFgkNHLzMyESqVCWlpajctMnjwZEydOrPM6AgMDsXDhwjq//1VUVlYG\n",
              "lUqFQ4cOKboea2trxddBLwcDg2oVGBgIlUqF6OhonfbCwkLY2Ni88A+5vpYuXYpevXoZrD96ebZu\n",
              "3QpXV9cq7Y8ePUJgYODLL4gMjoFBL9ShQ4cqgbF9+3a4u7s3UEWm4cmTJ0bVD9GLMDDohd59913c\n",
              "uXMHx48fl9r+8Y9/IDw8vMqyycnJ6N69O+zs7ODl5YU1a9agoqJCmq9SqfC3v/0NAQEBsLa2RufO\n",
              "nXHkyBEAwNdff42VK1fi2LFjsLa2hrW1NVJSUqT3/vzzz/Dx8YGNjQ38/f1x6dKlautdtGgR+vXr\n",
              "p9N2+/ZtWFpa4uzZszWO8+HDhwgJCYGNjQ00Gg2++uornfnHjx9HYGAgHBwc4O7ujkWLFqGsrEya\n",
              "f/PmTYwfPx6tWrVCixYtMG7cONy9e1eaHxgYiJkzZ2Ls2LFo2rQpZs2aVW0dHh4eWLJkCfr37w9r\n",
              "a2t06tQJ+/btk+Y//Z/83//+d3h4eMDBwQEAcPnyZQwZMgSOjo5wdXVFeHg48vPzpffl5uYiJCQE\n",
              "9vb2aNu2LeLi4nTWW90ewvN7fEVFRVi4cCG8vLxgY2ODtm3bYtu2bUhJSUFERARu3bolbbuvv/4a\n",
              "QOU2//HHH6U+6vMZoQYmiGrRt29fsWDBArF48WIxefJkIYQQKSkpws3NTaSnpwsAIjU1VQghxIkT\n",
              "J0SjRo1EXFycKC0tFadOnRLOzs5i3bp1Un8ARJcuXURqaqooLS0Vs2fPFm5ubtL8JUuWiICAAJ0a\n",
              "MjIyBAAxYMAAcevWLVFUVCRGjBgh+vTpIy0zadIkMWHCBCGEEFqtVlhYWIhr165J81esWCHeeuut\n",
              "Wsf5xhtviMTERFFaWiqSk5NFo0aNxJEjR4QQQly5ckU0adJE7NixQ5SWlorMzEzRpUsXsWLFCiGE\n",
              "EMXFxcLb21vMnTtXPHr0SBQWFoqJEyeK3/72tzrraNy4sUhOThbl5eXi8ePH1dbi7u4uHB0dxZEj\n",
              "R0RpaanYvHmzsLS0FNevXxdCCLFlyxZhbm4upk2bJgoLC8Xjx49FQUGBcHFxEXPmzBGPHz8Wt27d\n",
              "En369BHBwcFSvwMHDhSDBg0SeXl5Ii8vTwwbNkwAEAcPHpT6bdWqlU4tz2+PCRMmCD8/P3Hp0iVR\n",
              "UVEhbt68KU6fPl3j+4Wo3Ob79+8XQhjmM0INh4FBtXoaGFlZWcLGxkY8ePBAjB8/Xixfvlz6Q/40\n",
              "MMLCwsTw4cN13r927Vrh7e0tTQMQ27Ztk6YvXLggAIjbt28LIWoPjJ9++klqS0pKElZWVtL0s4Eh\n",
              "hBBBQUHio48+EkIIUV5eLtzd3cWWLVtqHWdISIhO2+jRo8WUKVOEEEL84Q9/EGPHjtWZHxsbK9q1\n",
              "ayeEECIhIUG4uLiIiooKaX52drYAILKysqR1PN9Hddzd3cWcOXN02nr06CGWLVsmhPh/YDwbON98\n",
              "841wdHQUpaWlUtuZM2cEAJGTkyPVcv78eWn++fPn9QqMu3fvCgDi5MmT1dYtJzAM8RmhhmPxsvdo\n",
              "6NXk6uqKfv36Yc2aNfj++++xZs0alJSU6CyTlZWFDh066LRpNBpotVqdNhcXF+nnJk2aAKg8id6y\n",
              "Zctaa3j+fUVFRSgrK4OFRdWP8fTp0zFx4kR8+umnOHDgAPLz8zFmzJha+2/Tpk2V6TNnzgAAUlNT\n",
              "cfDgQdjb20vzKyoqpEMpqampuHPnDpo2barTh1qthlarlQ71PL8OfWrJysqSplu0aIHGjRtL01lZ\n",
              "WXB3d9f5t9BoNAAArVYL8b/H3jzbr9xansrIyAAAeHt76/W+Zyn9GSFl8RwGyfbhhx9i5cqVGDJk\n",
              "CJydnavMb926NdLT03Xa0tPT4ebmJnsdZmaG+Uj+7ne/g52dHXbu3Ino6Gi8//77sLKyqvU9mZmZ\n",
              "Vaaf/qF3cnLC+PHj8fDhQ+lVUFCAR48eSfPd3d115j98+BDFxcXo2bOn3uOrrZbq+mndujW0Wq3O\n",
              "OZWn28LNzU1677P9Pr8OGxsbPH78WKft1q1b0s8eHh4AgGvXrlVbs5yxGeIzQg2HgUGyDRo0CPv3\n",
              "78e6deuqnT9lyhQkJycjISEB5eXl+OWXX7B69WqEhYXJXoeTkxO0Wi2Ki4vrVatKpUJERASioqKQ\n",
              "nJxc7Qn65+3evRvJyckoLy/H3r17sWvXLoSGhgKo3GOJj4/Hd999hydPnqC8vBxpaWnYu3cvACAk\n",
              "JASlpaVYtGiRdKI5Nze3yollub766iscO3YMZWVl2Lp1K3755RdMmDChxuWHDRsGCwsLfPLJJygq\n",
              "KsLt27fxpz/9Ce+++y6cnJzQqlUrDBgwAPPmzcODBw/w4MEDfPLJJzp9dOvWDYWFhYiLi0NFRQUO\n",
              "HTqE7777TprfvHlzjBs3DjNmzMDVq1cBADk5OdJemJOTE+7du4e8vLwa6zTEZ4QaDgODZFOpVBgw\n",
              "YEC119oDwFtvvYX4+Hh8+umnaNq0KUaNGoVZs2Zh9uzZstcxZswYeHt7w8XFBfb29vW6OiY0NBRX\n",
              "r17F22+/XeUwSHWmTJmCmJgY2NvbY8aMGdiwYQN69+4NAPDz88P+/fuxadMmtGrVCg4ODhg5ciRu\n",
              "3LgBoPJ/58eOHYNWq0Xnzp1ha2uLnj174vDhw3WqPSIiAgsWLIC9vT1Wr16NXbt2oV27djUub2tr\n",
              "i/379+PcuXNwdXVF9+7dodFosG3bNmmZ2NhYWFpawsPDA76+vlUO0bVt2xZffvklPvroI9jb2yM6\n",
              "OloKzKc2bdqEvn37YsiQIbC2tkZAQAAuXrwIAOjfvz+Cg4Ph5eUFe3t7fPPNN1XqNMRnhBqOSgg+\n",
              "05tMU3l5Odzc3PCXv/yl1v+dGxsPDw8sXLgQU6dObehSiHRwD4NM1saNG2FmZoZRo0Y1dClEJoFX\n",
              "SZHJyc/Ph6urK+zs7LBlyxZYWlo2dElEJoGHpIiISBYekiIiIlkYGEREJAsDg4iIZGFgEBGRLCYR\n",
              "GF988UVDl0BEZPJMIjCeftuWiIiUYxKBQUREylMsMIqLizF8+HB4eXnBx8cHAwcOrPHZz0lJSWjf\n",
              "vj08PT0REhKCgoICpcoiIqI6UnQPIywsDFevXsW5c+cQHBxc7b1xHj16hA8++AD/+te/kJqaChcX\n",
              "FyxfvlzJsoiIqA4UC4w33ngDQ4cOhUqlAgD4+/tXuf8+AOzZswfdunVD+/btAVTeRnrHjh1KlUVE\n",
              "RHX00u4l9cUXXyA4OLhKu1arhbu7uzTt4eGBnJycGp+kVlJSUuVJb+Xl5YYvmIiIdLyUwFi5ciXS\n",
              "0tJw4MCBevcVFRWFyMhInTZ/f/9690tE1JA8Pk6u1/szVw0zUCU1U/wqqTVr1mDnzp3Ys2ePzjOI\n",
              "n3Jzc9O5LDYzMxPOzs7V7l0AwPz585Gfn6/z6tGjh2L1ExFRJUUDY+3atdixYwf2798Pe3v7apcZ\n",
              "PHgwzpw5gytXrgAA1q9fj7Fjx9bYp1qthq2trc7L3NxcifKJiOgZih2Sys7Oxty5c9G2bVv069cP\n",
              "QOUf++PHj2Px4sVwcXFBREQEbGxssHnzZgwfPhxlZWXo1KmTzmMliYjIOCgWGK6urqjpURvLli3T\n",
              "mQ4KCkJQUJBSpRARkQHwm95ERCQLA4OIiGRhYBARkSwMDCIikoWBQUREsjAwiIhIFgYGERHJwsAg\n",
              "IiJZGBhERCQLA4OIiGRhYBARkSwMDCIikoWBQUREsjAwiIhIFgYGERHJwsAgIiJZGBhERCQLA4OI\n",
              "iGRhYBARkSwMDCIikoWBQUREsjAwiIhIFgYGERHJwsAgIiJZFA2MWbNmwcPDAyqVCmfPnq12mUOH\n",
              "DsHKygpdu3aVXkVFRUqWRUREdWChZOcjR47EvHnz0KtXr1qX8/b2rjFQiIjIOCgaGH369FGyeyIi\n",
              "eokUDQy50tPT4evrC3Nzc4SGhmL69Ok1LltSUoKSkhKdtvLycqVLJCJ67TV4YPj6+iI7Oxt2dnbI\n",
              "zs7G0KFD4ejoiNGjR1e7fFRUFCIjI3Xa/P39X0apRESvtQa/SsrW1hZ2dnYAAFdXV4wbNw4pKSk1\n",
              "Lj9//nzk5+frvHr06PGyyiUiem01eGDk5OSgoqICAFBYWIikpCR069atxuXVajVsbW11Xubm5i+r\n",
              "XCKi15begbFv3z7Zy4aHh8PV1RXZ2dkYNGgQNBoNAGDq1KlITEwEACQkJKBz587w8fGBv78/Bg4c\n",
              "iNDQUH3LIiIihamEEEKfNwQEBODevXuYPn06QkNDYWtrq1Rtss2ZMwdr165t6DKIiOrM4+Pker0/\n",
              "c9UwA1VSM733MH7++Wf885//xIULF+Dl5YXp06fj0qVLStRGRERGpE7nMLp164ZNmzZh7969SEpK\n",
              "QpcuXTBw4ED8+uuvhq6PiIiMRJ0C48cff0RwcDBCQkIwY8YM3L59G+Hh4fj9739v6PqIiMhI6P09\n",
              "jN/85jdwdHTErFmzEBISIl2hNHLkSMTExBi8QCIiMg56B0ZsbCy6d+9e7bw9e/bUuyAiIjJOeh+S\n",
              "On36NO7fvy9N5+XlYdOmTQYtioiIjI/egbF+/Xo0a9ZMmnZwcMD69esNWhQRERkfvQOjuq9t8OZ/\n",
              "RESmT+/AcHZ2xrfffitNx8XFwdnZ2aBFERGR8dH7pPfnn3+O4OBgzJs3DwDQuHFjfP/99wYvjIiI\n",
              "jIvegdG+fXtcunQJV69eBVD5tDze/I+IyPTV6XkYKpUK9vb2KCsrw82bNwEAbm5uBi2MiIiMi96B\n",
              "sXXrVsyaNQuNGjWCmVnlKRCVSoXc3FyDF0dERMZD78BYvnw5Tp48CW9vbyXqISIiI6X3VVKOjo4M\n",
              "CyKi15DegTF8+HB8/vnnyM3NRUFBgfQiIiLTpvchqQULFgCofGiRSqWCEAIqlYpf3iMiMnF6B8bT\n",
              "528TEdHrpU7Pwzh9+jS2b98OAHj48CFycnIMWhQRERmfOt18cMqUKVi6dCmAyrvVjh8/3tB1ERGR\n",
              "kdE7MDZu3Ih///vfsLW1BQC0a9cOd+/eNXhhRERkXPQODLVaDSsrK502C4s6fWGciIheIXoHRvPm\n",
              "zXHt2jWoVCoAld/85m1BiIhMX53uVjtu3DhcuXIFrVu3hq2tLZKSkpSojYiIjIjeexgajQbHjx/H\n",
              "6dOnsW/fPpw/fx5t2rSpdtlZs2bBw8MDKpUKZ8+erbHPmJgYeHp6ol27dpg2bRpKS0v1LYuIiBSm\n",
              "d2BotVpkZ2ejSZMmsLa2xs2bN6HVaqtdduTIkThy5Ajc3d1r7C8jIwOLFi1CSkoK0tLScOfOHWzc\n",
              "uFHfsoiISGF6H5Lq3r279A3v4uJi/Oc//4GDg0O1d6vt06fPC/uLj49HUFAQnJycAAARERFYuXIl\n",
              "ZsyYoW9pRESkIL0D4/lLaHfu3Ilz587VuQCtVquzB+Lh4VHjHgsAlJSUoKSkRKeNtyUhIlJeva+H\n",
              "DQkJwcqVKxEZGWmIel4oKiqqyrr8/f3r3J/Hx8n1qidz1bB6vb8hvI5jJpKrPr8fpv67ofc5jGfv\n",
              "UPvgwQPs3bu3XnerdXNzw40bN6TpzMzMWi/TnT9/PvLz83VePXr0qPP6iYhIHr33MOzt7aVzGObm\n",
              "5vD09MRf//rXOhcwYsQI9OrVC0uXLkXLli2xYcMGjB07tsbl1Wo11Gq1ThufKU5EpDy99zAqKipQ\n",
              "Xl6OiooKlJaW4tKlSxg8eHC1y4aHh8PV1RXZ2dkYNGgQNBoNAGDq1KlITEwEALRt2xaRkZEICAiA\n",
              "RqNB8+bNER4eXo8hERGREhS9p0d0dHS17Zs3b9aZnjZtGqZNm6ZkKUREVE96B4aZmZl0W5Bn8UFK\n",
              "RESmTe/AWLZsGYqKivDhhx8CADZs2AArKyv88Y9/NHRtRERkRPQOjF27duH06dPS9IoVK9C9e3fp\n",
              "0a1ERGSa9D7pXVhYqPOt7tzcXBQWFhq0KCIiMj5672HMnTsXPj4+GDp0KABg79690tP3iIjIdOkd\n",
              "GOHh4QgICMDBgwcBAHPmzEHHjh0NXhgRERmXOl1W6+DggM6dOyMwMBBlZWV48uQJLC0tDV0bEREZ\n",
              "Eb3PYcTHx8Pf3x+hoaEAgIsXL2L48OGGrouIiIyM3oERFRWFM2fOwN7eHgDg4+Ojcy8oIiIyTXoH\n",
              "hrm5ORwcHHTaeDiKiMj06R0YNjY2uHPnjvRt7wMHDqBZs2YGL4yIiIyL3ie9P/vsMwwZMgTXr19H\n",
              "r169kJGRgeTk+j1fgYiIjJ9egfH0TrUHDx7E0aNHIYRAz549pfMZRERkuvQKDDMzM4SFheHcuXMY\n",
              "MmSIUjUREZER0vschqenJ9LS0pSohYiIjJje5zDu37+Prl27omfPnrC2tpbad+7cadDCiIjIuMgO\n",
              "jLCwMGzcuBGTJk1CUFAQmjZtqmRdRERkZGQHxqlTpwAAkyZNgq+vL86cOaNYUUREZHz0PocBVD5d\n",
              "j4iIXi+y9zCKiorw66+/QgiB4uJi6eenunTpokiBRERkHPQKjKCgIGn62Z9VKhWuX79u2MqIiMio\n",
              "yA6MzMxMBcsgIiJjV6dzGERE9PpRNDBSU1PRs2dPeHl5wc/PDxcvXqyyzKFDh2BlZYWuXbtKr6Ki\n",
              "IiXLIiKiOqjTE/fkCg8PR1hYGCZPnoz4+HhMnjwZJ0+erLKct7c3zp49q2QpRERUT4rtYeTm5uLU\n",
              "qVOYOHEiAGDEiBHIysribUWIiF5RigVGVlYWnJ2dYWFRuROjUqng5uYGrVZbZdn09HT4+vrCz88P\n",
              "69evr7XfkpISFBQU6LzKy8sVGQMREf2fooek5PD19UV2djbs7OyQnZ2NoUOHwtHREaNHj652+aio\n",
              "KERGRuq0+fv7v4xSiYhea4rtYbRu3Ro5OTkoKysDUPntcK1WCzc3N53lbG1tYWdnBwBwdXXFuHHj\n",
              "kJKSUmO/8+fPR35+vs6rR48eSg2DiIj+R7HAaNGiBXx9fREbGwsASEhIgKurKzQajc5yOTk5qKio\n",
              "AAAUFhYiKSkJ3bp1q7FftVoNW1tbnZe5ublSwyAiov9R9LLa6OhoREdHw8vLC6tWrcKWLVsAAFOn\n",
              "TkViYiKAyiDp3LkzfHx84O/vj4EDByI0NFTJsoiIqA4UPYfh7e2NY8eOVWnfvHmz9PPMmTMxc+ZM\n",
              "JcsgIiID4De9iYhIFgYGERHJwsAgIiJZGBhERCQLA4OIiGRhYBARkSwMDCIikoWBQUREsjAwiIhI\n",
              "FgYGERHJwsAgIiJZGBhERCQLA4OIiGRhYBARkSwMDCIikoWBQUREsjAwiIhIFgYGERHJwsAgIiJZ\n",
              "GBhERCQLA4OIiGRhYBARkSwMDCIikoWBQUREsigaGKmpqejZsye8vLzg5+eHixcvVrtcTEwMPD09\n",
              "0a5dO0ybNg2lpaVKlkVERHWgaGCEh4cjLCwM165dw5///GdMnjy5yjIZGRlYtGgRUlJSkJaWhjt3\n",
              "7mDjxo1KlkVERHWgWGDk5ubi1KlTmDhxIgBgxIgRyMrKQlpams5y8fHxCAoKgpOTE1QqFSIiIrBj\n",
              "xw6lyiIiojqyUKrjrKwsODs7w8KichUqlQpubm7QarXQaDTSclqtFu7u7tK0h4cHtFptjf2WlJSg\n",
              "pKREp628vNzA1RMR0fMUCwylREVFITIyUqetffv2mDNnDoDK8Dhx4gR69OgBc3PzF/YXUs965sw5\n",
              "UM8e6o9jfvGYTQHH/HLGXJ/fj/r8bjxdb13HXJ91u7u7Y/bs2S9cTiWEEHVeSy1yc3Oh0Whw//59\n",
              "WFhYQAgBZ2dnHDlyRGcPY/Xq1UhPT8eGDRsAALt378bKlStx5MiRavutbg9DrVZDrVYDAAoKCmBn\n",
              "Z4f8/HzY2toqMTSjwzFzzKaKYzauMSt2DqNFixbw9fVFbGwsACAhIQGurq46YQFUnttITEzE7du3\n",
              "IYTAhg0bMHbs2Br7VavVsLW11Xk9DQsiIlKOoldJRUdHIzo6Gl5eXli1ahW2bNkCAJg6dSoSExMB\n",
              "AG3btkVkZCQCAgKg0WjQvHlzhIeHK1kWERHVgWKHpBqKMe/OKYVj5phNFcdsXGM2uW96q9VqLFmy\n",
              "5LU6TMUxvx445teDMY/Z5PYwiIhIGSa3h0FERMpgYBARkSwMDCIikuWVDoy8vDx07dpVenl5ecHC\n",
              "wgL3799Hbm4uBg8eDE9PT3Tq1AmHDx9u6HINorYxBwYGok2bNtK8devWNXS5BrN79274+vqia9eu\n",
              "6NSpE7Zt2wYAJrudgZrHbMrbee/evXjzzTfRpUsX+Pv749y5cwBMezvXNGaj3M7ChKxevVq88847\n",
              "QgghQkNDxZIlS4QQQpw4cUK0atVKPHnypAGrU8azY+7bt6/YtWtXwxakgIqKCtG0aVNx7tw5IYQQ\n",
              "GRkZQq1Wi4KCApPdzrWN2VS38/3790WzZs3EhQsXhBBCHD58WHTs2FEIYbq/z7WN2Ri38yu9h/G8\n",
              "mJgYfPDBBwCAb7/9FhEREQAAPz8/uLi44KeffmrI8hTx7JhNmUqlwsOHDwFUXqfu4OAAtVpt0tu5\n",
              "pjGbqvT0dDg4OKBjx44AgN69e0Or1eLMmTMmu51rG7MxMpnAOHr0KB48eIB33nkHeXl5KC0thZOT\n",
              "kzT/RXfBfRU9O+anPv74Y3Tu3BljxozB9evXG7A6w1GpVIiLi0NISAjc3d3Rq1cvbNu2DYWFhSa7\n",
              "nWsas6WlJQDT3M6enp7Iy8vD0aNHAQCJiYkoLCxERkaGyW7nmsacmZkJwPi2s8kERkxMDN5//33p\n",
              "duqvg+fHvH37dly5cgXnz59H7969dYLkVVZWVoYVK1Zg586duHHjBg4cOID33nsPZWVlDV2aYmoa\n",
              "871790x2O9vZ2SE+Ph7z589H9+7d8cMPP6BDhw549OhRQ5emmJrGbGFhYZzbuaGPiRlCYWGhsLa2\n",
              "FpcvX5baGjduLHJycqRpPz8/sX///oYoTxHVjfl5arVa3Lt37yVWpYyTJ08KT09PnbY333xT/PDD\n",
              "Dya7nWsb8/NMZTs/r7i4WNjb24vU1FST3c7Pe3bMzzOG7WwSexhxcXHw8fFB+/btpbZRo0ZJt0w/\n",
              "efIkbt68ib59+zZUiQb3/JjLyspw584daX5CQgJatmwJBweHhirRYFq3bo2cnBxcvnwZAJCWlob0\n",
              "9HR4e3ub7Haubcymup0BICcnR/p5+fLl6N+/PzQajcluZ6D6MXt4eBjldjaJ4zcxMTGYNm2aTttn\n",
              "n32G9957D56enrC0tERsbCwaNWrUQBUa3vNjLikpwbBhw1BSUgIzMzM4OjpKdwR+1bVs2RIbN27E\n",
              "6NGjYWZmhoqKCnz55Zdwc3Mz2e1c05gdHBzQt29fk9zOALB48WKkpKSgrKwMb7/9NmJiYgCY9u9z\n",
              "dWM21t9n3kuKiIhkMYlDUkREpDwGBhERycLAICIiWRgYREQkCwODiIhkYWAQEZEsDAwiIpKFgUFE\n",
              "RLIwMIiISBYGBhERycLAICIiWf4Llu7WeElWxe4AAAAASUVORK5CYII=\n",
              "\">\n",
              "        \n",
              "      </div>\n",
              "      <script></script>\n",
              "      <script type=\"text/javascript\">\n",
              "        (() => {\n",
              "          const chartElement = document.getElementById(\"chart-7c25c434-51c6-4d27-8b7a-a1926c72e980\");\n",
              "          async function getCodeForChartHandler(event) {\n",
              "            const chartCodeResponse =  await google.colab.kernel.invokeFunction(\n",
              "                'getCodeForChart', [\"chart-7c25c434-51c6-4d27-8b7a-a1926c72e980\"], {});\n",
              "            const responseJson = chartCodeResponse.data['application/json'];\n",
              "            await google.colab.notebook.addCell(responseJson.code, 'code');\n",
              "          }\n",
              "          chartElement.onclick = getCodeForChartHandler;\n",
              "        })();\n",
              "      </script>\n",
              "      <style>\n",
              "        .colab-quickchart-chart-with-code  {\n",
              "            display: block;\n",
              "            float: left;\n",
              "            border: 1px solid transparent;\n",
              "        }\n",
              "\n",
              "        .colab-quickchart-chart-with-code:hover {\n",
              "            cursor: pointer;\n",
              "            border: 1px solid #aaa;\n",
              "        }\n",
              "      </style>"
            ]
          },
          "metadata": {}
        },
        {
          "output_type": "display_data",
          "data": {
            "text/plain": [
              "<google.colab._quickchart_helpers.SectionTitle at 0x78120a33ae60>"
            ],
            "text/html": [
              "<h4 class=\"colab-quickchart-section-title\">Categorical distributions</h4>\n",
              "<style>\n",
              "  .colab-quickchart-section-title {\n",
              "      clear: both;\n",
              "  }\n",
              "</style>"
            ]
          },
          "metadata": {}
        },
        {
          "output_type": "display_data",
          "data": {
            "text/plain": [
              "import numpy as np\n",
              "from google.colab import autoviz\n",
              "\n",
              "def categorical_histogram(df, colname, figscale=1, mpl_palette_name='Dark2'):\n",
              "  from matplotlib import pyplot as plt\n",
              "  import seaborn as sns\n",
              "  df.groupby(colname).size().plot(kind='barh', color=sns.palettes.mpl_palette(mpl_palette_name), figsize=(8*figscale, 4.8*figscale))\n",
              "  plt.gca().spines[['top', 'right',]].set_visible(False)\n",
              "  return autoviz.MplChart.from_current_mpl_state()\n",
              "\n",
              "chart = categorical_histogram(_df_2, *['Month'], **{})\n",
              "chart"
            ],
            "text/html": [
              "      <div class=\"colab-quickchart-chart-with-code\" id=\"chart-cda83013-7f50-4801-97f3-4978ac4a22bf\">\n",
              "        <img src=\"data:image/png;base64,iVBORw0KGgoAAAANSUhEUgAAAY0AAADgCAYAAAD/ujrhAAAAOXRFWHRTb2Z0d2FyZQBNYXRwbG90\n",
              "bGliIHZlcnNpb24zLjcuMSwgaHR0cHM6Ly9tYXRwbG90bGliLm9yZy/bCgiHAAAACXBIWXMAAA9h\n",
              "AAAPYQGoP6dpAAAd3UlEQVR4nO3dfVBU1/0/8PfysJhRxLgmoAZckaWE5WHH8KgiYEhhIkZJJcqg\n",
              "NdgYE+qQxkYCY8ZgfUDjKInGDElq+/sFpzNYSJSJ7bZRGqB1KlsRCLV2wsO6+SILZnVYtHZl5X7/\n",
              "cHq/2QLmgCxPvl8zdwbOPd7zOZvMvrn37L2rkCRJAhERkQCXsS6AiIgmDoYGEREJY2gQEZEwhgYR\n",
              "EQljaBARkTCGBhERCWNoEBGRMIYGEREJY2gMw3vvvTfWJRARjQmGxjBcuXJlrEsgIhoTDA0iIhLG\n",
              "0CAiImEMDSIiEsbQICIiYQwNIiISxtAgIiJhDA0iIhLG0CAiImEKft3r0IU9Ox2x6x8d6zKIiPr5\n",
              "MMO5Nx/zTIOIiIQxNIiISBhDg4iIhDE0iIhImFNDIycnB2q1GgqFAvX19XK7Xq9HREQEwsLCEBMT\n",
              "g4aGBnlfQkIC5s+fD51OB51Oh6KiInmfJEkoKChAYGAgQkNDkZiYOOjYXV1dSElJgUajQUhICKqr\n",
              "q4XGICKiwbk58+CrV69Gbm4ulixZIrfduHEDmZmZqK6uhlarRU1NDTIzM9HU1CT3KSoqwqpVq/od\n",
              "7/Dhw2hsbERTUxOUSiXMZvOgY+fl5SEmJgZ6vR4GgwFpaWloa2uDu7v7fccgIqLBOTU0li5d2q+t\n",
              "paUFKpUKWq0WABAXFweTyYS6ujosXLjwvsc7cOAAKisroVQqAQA+Pj6D9j1x4gSam5sBAJGRkZgz\n",
              "Zw6qqqqQlJQ03OkQET30Rn1NQ6PRwGKx4Ny5cwCAiooK9PT0wGg0yn3y8vIQGhqKNWvWoLW1FQBg\n",
              "tVrR2dmJU6dOITo6GtHR0SgtLR1wDIvFgt7eXodQUavVMJlM9x1jIDabDVar1WHr6+OtLUT0cBr1\n",
              "0PDy8kJZWRny8/Px1FNP4Y9//COCg4Ph5nbvpKekpASXL19GY2Mj4uLikJqaCgCw2+2w2+24ffs2\n",
              "zp8/j9LSUrz++usO6yGiBhtjIIWFhfDy8nLYrrXcGd7kiYgmuFG5I1ytVuPkyZPQ6XT99tlsNvj4\n",
              "+MBgMCAgIKDf/ilTpqC9vR0qlQqenp5oaGiAv78/ACA9PR3JyclQq9V444035Lbt27dj6tSpaGlp\n",
              "kc82oqKisHfv3gEvT313jIHqs9lsDm2LXpiLxRtmDvl1ICJytkl5R3hHR4f8865du7Bs2TIEBATA\n",
              "brejs7NT3ldeXg5vb2/5zTwjIwN6vR4AcP36ddTW1iIsLAxJSUmor69HfX09tm/fDuBeeBQXFwMA\n",
              "DAYD2tvbER8f/71j/DcPDw9Mnz7dYXNxUYzsC0JENEE4dSF88+bNOH36NMxmM5KTk+Hp6Ynm5mbs\n",
              "2LEDNTU1sNvtiI2NxbFjxwDc+6t++fLlsNlscHFxwaxZs1BRUSEfr7CwEFlZWfjggw8AAG+++Sai\n",
              "oqIGHHv//v1Yv349NBoNlEoljh8/Dnd3d9y6deu+YxAR0eD4wMJh4AMLiWi8mpSXp4iIaGJiaBAR\n",
              "kTCGBhERCWNoEBGRMKd+emqySgp6CYcyDo11GUREo45nGkREJIyhQUREwhgaREQkjKFBRETCGBpE\n",
              "RCSMoUFERMIYGkREJIyhQUREwhgaREQkjKFBRETCGBpERCSMoUFERMIYGkREJIyhQUREwhgaREQk\n",
              "jKFBRETCGBpERCSMoUFERML4da/DcOv//w1m/YGxLoOIqB+fS9ucenyeaRARkTCGBhERCWNoEBGR\n",
              "MIYGEREJc2po5OTkQK1WQ6FQoL6+Xm7X6/WIiIhAWFgYYmJi0NDQIO9LSEjA/PnzodPpoNPpUFRU\n",
              "JO+TJAkFBQUIDAxEaGgoEhMTBx27q6sLKSkp0Gg0CAkJQXV1db8+lZWVcHV1xbvvvjsi8yUimuyc\n",
              "+ump1atXIzc3F0uWLJHbbty4gczMTFRXV0Or1aKmpgaZmZloamqS+xQVFWHVqlX9jnf48GE0Njai\n",
              "qakJSqUSZrN50LHz8vIQExMDvV4Pg8GAtLQ0tLW1wd3dHQDQ3d2NvLw8PPvssyM3YSKiSc6pZxpL\n",
              "ly7FE0884dDW0tIClUoFrVYLAIiLi4PJZEJdXd33Hu/AgQPYt28flEolAMDHx2fQvidOnMArr7wC\n",
              "AIiMjMScOXNQVVUl79+yZQveeustqFSqIc+LiOhhNeprGhqNBhaLBefOnQMAVFRUoKenB0ajUe6T\n",
              "l5eH0NBQrFmzBq2trQAAq9WKzs5OnDp1CtHR0YiOjkZpaemAY1gsFvT29jqEilqthslkAgCUlZXB\n",
              "xcUFzz333PfWa7PZYLVaHba7Ut9wp09ENKGN+s19Xl5eKCsrQ35+Pm7evInY2FgEBwfDze1eKSUl\n",
              "JfD19YUkSTh69ChSU1Nx6dIl2O122O123L59G+fPn4fRaMSiRYsQFBSE8PBw4fHNZjN2796NL7/8\n",
              "Uqh/YWEhdu7c6dD21BQ/4fGIiCYThSRJkrMHUavVOHnyJHQ6Xb99NpsNPj4+MBgMCAgI6Ld/ypQp\n",
              "aG9vh0qlgqenJxoaGuDv7w8ASE9PR3JyMtRqNd544w25bfv27Zg6dSpaWlrks42oqCjs3bsXNpsN\n",
              "GzduxCOPPAIA+Pbbb6FUKvHqq69iz549A9Zns9kc2raqn8Vun5UP9JoQETmDs+8IH5PHiHR0dGD2\n",
              "7NkAgF27dmHZsmUICAiA3W6HxWKBt7c3AKC8vBze3t7yukNGRgb0ej2ys7Nx/fp11NbWYtu2bYiK\n",
              "inL4dBZwLzyKi4tRUFAAg8GA9vZ2xMfHw93dHZ2dnXK/F198ETqdDj/72c8GrNXDwwMeHh4Oba4K\n",
              "flKZiB5OTg2NzZs34/Tp0zCbzUhOToanpyeam5uxY8cO1NTUwG63IzY2FseOHQNw76/65cuXw2az\n",
              "wcXFBbNmzUJFRYV8vMLCQmRlZeGDDz4AALz55puIiooacOz9+/dj/fr10Gg0UCqVOH78uPzJKSIi\n",
              "Gp5RuTw12WxWLcVO7xVjXQYRUT98YCEREY0bDA0iIhLG0CAiImEMDSIiEsZv7huGqRsi4HPIuYtN\n",
              "RETjEc80iIhIGEODiIiEMTSIiEgYQ4OIiIQxNIiISBhDg4iIhDE0iIhIGEODiIiEMTSIiEgYQ4OI\n",
              "iIQxNIiISBhDg4iIhDE0iIhIGEODiIiEDTk09Ho9goKCoFQq4erqChcXF7i6ujqjNiIiGmeG/H0a\n",
              "OTk5OHLkCGJjYxkWREQPmSGHxvTp05GcnOyMWoiIaJwb8uWp1NRUnDx50gmlEBHReKeQJEkS6fjo\n",
              "o49CoVBAkiR0d3fjkUcegYeHByRJgkKhwPXr151d67gRsXAVlsW/NNZlEBH1805RqlOPL3x5qr6+\n",
              "3ollEBHRRCB8eWrevHmYN28eSkpK5J+/20ZERJPfkNc0Pv30U6E2IiKafIQvT/3hD3+AXq9He3s7\n",
              "tm7dKrd3d3c7pTAiIhp/hM80pkyZghkzZsDFxQVeXl7yFhISMuiZRk5ODtRqNRQKhcOaiF6vR0RE\n",
              "BMLCwhATE4OGhgZ5X0JCAubPnw+dTgedToeioiJ5nyRJKCgoQGBgIEJDQ5GYmDhovV1dXUhJSYFG\n",
              "o0FISAiqq6vlfVlZWQgLC4NOp0NkZCTOnj0r+jIQET3UhM804uPjER8fj1WrViE8PFzo36xevRq5\n",
              "ublYsmSJ3Hbjxg1kZmaiuroaWq0WNTU1yMzMRFNTk9ynqKgIq1at6ne8w4cPo7GxEU1NTVAqlTCb\n",
              "zYOOnZeXh5iYGOj1ehgMBqSlpaGtrQ3u7u4oKirCjBkzAAAXL17E008/jW+//RYuLnyqChHR/Qz5\n",
              "5j6tVovS0lK0tLTAbrfL7Tt27OjXd+nSpf3aWlpaoFKpoNVqAQBxcXEwmUyoq6vDwoUL7zv2gQMH\n",
              "UFlZCaVSCQDw8fEZtO+JEyfQ3NwMAIiMjMScOXNQVVWFpKQkOTAAXl4jIhqKIf9pvXbtWhw5cgTf\n",
              "fvstenp65E2URqOBxWLBuXPnAAAVFRXo6emB0WiU++Tl5SE0NBRr1qxBa2srAMBqtaKzsxOnTp1C\n",
              "dHQ0oqOjUVpaOuAYFosFvb29DqGiVqthMpkcxliwYAGef/55lJeXD3qWYbPZYLVaHTapr094vkRE\n",
              "k8mQzzS++uorXL58GQqFYlgDenl5oaysDPn5+bh58yZiY2MRHBwMN7d7pZSUlMDX1xeSJOHo0aNI\n",
              "TU3FpUuXYLfbYbfbcfv2bZw/fx5GoxGLFi1CUFCQ8OWy79q3bx/27duHM2fOIDc3F3/5y1/kM5jv\n",
              "KiwsxM6dOx3aZvv8YFhzJyKa6IZ8puHr64s7d+480KCJiYmoqqrChQsXcPDgQVy9ehXBwcHy8QFA\n",
              "oVBgy5YtaG1thcViwcyZMzFt2jSsW7cOwL0zh8WLF8NgMODMmTPywvmePXugUqng5ubmsOZhNBrh\n",
              "5+fXr5akpCT09PTgq6++GrDW/Px8dHd3O2yzvQMfaP5ERBPVkM80AgICkJCQgLS0NEyZMkVuz8nJ\n",
              "ET5GR0cHZs+eDQDYtWsXli1bhoCAANjtdlgsFnh7ewMAysvL4e3tDZVKBQDIyMiAXq9HdnY2rl+/\n",
              "jtraWmzbtg1RUVH97lhPT09HcXExCgoKYDAY0N7ejvj4ePT29uLKlSsICAgAANTW1qKrqwv+/v4D\n",
              "1urh4QEPDw+HNgUXzInoITXk0LDZbAgKCsI//vEPuW2wS1WbN2/G6dOnYTabkZycDE9PTzQ3N2PH\n",
              "jh2oqamB3W5HbGwsjh07Jh97+fLlsNlscHFxwaxZs1BRUSEfr7CwEFlZWfjggw8AAG+++SaioqIG\n",
              "HHv//v1Yv349NBoNlEoljh8/Dnd3d/zrX//Chg0b0N3dDTc3N0ydOhVlZWV49NFHh/pSEBE9dIQf\n",
              "WEj/hw8sJKLxatw8sPA/7HY7ioqK8MUXXwAAkpOT8dprr8kL2URENHkN+Z1+69ataGlpQXZ2NhQK\n",
              "BX75y1/iypUrOHz4sDPqIyKicWTIofHll1+ivr5evq9h+fLl33tTHhERTQ5D/hiQJEno+87NbZIk\n",
              "gcsiREQPhyGfaaSkpOCHP/whXnzxRQDAJ598gpSUlJGua1xbmuCPdw45d7GJiGg8GnJo7N+/Hx99\n",
              "9BEqKiqgUCiQnp6Ol19+2Rm1ERHROCMcGt/9Dg3g/+7c/uc//4mf//znOHTo0MhWRkRE445waLz7\n",
              "7ruIjIxESkoKHyFORPSQEg6Ns2fP4le/+hV+85vf4IUXXsDGjRuxYMECZ9ZGRETjjPApQ2JiIkpK\n",
              "SnDhwgX4+fkhMzMTiYmJOH/+vDPrIyKicWTI15mmT5+OlStXYuXKlbh8+TIuX77sjLqIiGgcEg6N\n",
              "u3fv4rPPPkNqaiqeeeYZuLq6oq6uDhs2bHBmfURENI4Ir2nMnTsXfn5+yMrKwuLFiwEA165dw7Vr\n",
              "1wAAYWFhzqmQiIjGDeHQmDJlCq5du4Z33nkHCoXC4S5whUIhfy0rERFNXsKh8d3v8CYioocTb7gg\n",
              "IiJhDA0iIhLG0CAiImEMDSIiEsbQICIiYQwNIiISxtAgIiJhDA0iIhKmkPgF30OWpVUgP5J5S0Tj\n",
              "T+D/u+vU4/Odj4iIhDE0iIhIGEODiIiEMTSIiEiYU0MjJycHarUaCoUC9fX1crter0dERATCwsIQ\n",
              "ExODhoYGeV9CQgLmz58PnU4HnU6HoqIieZ8kSSgoKEBgYCBCQ0ORmJg46NhdXV1ISUmBRqNBSEgI\n",
              "qqur5X1ZWVkIDAxEeHg4Fi9eDIPBMLITJyKapIQfjT4cq1evRm5uLpYsWSK33bhxA5mZmaiuroZW\n",
              "q0VNTQ0yMzPR1NQk9ykqKsKqVav6He/w4cNobGxEU1MTlEolzGbzoGPn5eUhJiYGer0eBoMBaWlp\n",
              "aGtrg7u7O9LS0vDxxx/Dzc0Nn3/+OdLT0/nodyIiAU4NjaVLl/Zra2lpgUqlglarBQDExcXBZDKh\n",
              "rq4OCxcuvO/xDhw4gMrKSiiVSgCAj4/PoH1PnDiB5uZmAEBkZCTmzJmDqqoqJCUl4bnnnpP7xcTE\n",
              "oL29HXa7HW5uTn05iIgmvFFf09BoNLBYLDh37hwAoKKiAj09PQ5/6efl5SE0NBRr1qyRvxHQarWi\n",
              "s7MTp06dQnR0NKKjo1FaWjrgGBaLBb29vQ6holarYTKZ+vV977338Oyzzw4aGDabDVar1WG72zfc\n",
              "2RMRTWyj/qe1l5cXysrKkJ+fj5s3byI2NhbBwcHym3ZJSQl8fX0hSRKOHj2K1NRUXLp0CXa7HXa7\n",
              "Hbdv38b58+dhNBqxaNEiBAUFITw8fFi1HD9+HCdOnHBY7/hvhYWF2Llzp0Nb+KxhDUdENOGNyaen\n",
              "EhMTUVVVhQsXLuDgwYO4evUqgoODAQC+vr4A7n3v+JYtW9Da2gqLxYKZM2di2rRpWLduHYB7Zw7/\n",
              "WcQ+c+aMvHC+Z88eqFQquLm5Oax5GI1G+Pn5yb+XlpZi586d+OKLL+Dt7T1orfn5+eju7nbYwhga\n",
              "RPSQGpPQ6OjokH/etWsXli1bhoCAANjtdnR2dsr7ysvL4e3tDZVKBQDIyMiAXq8HAFy/fh21tbUI\n",
              "CwtDUlIS6uvrUV9fj+3btwMA0tPTUVxcDAAwGAxob29HfHw8gHvrHW+99RbOnDnjECQD8fDwwPTp\n",
              "0x02V35QmYgeUk599tTmzZtx+vRpmM1mqFQqeHp6orm5GZs2bUJNTQ3sdjtiY2Nx5MgRzJgxA7du\n",
              "3UJ8fDxsNhtcXFwwa9YsHDp0SL78ZLFYkJWVJa9zZGdnIzs7e8CxOzs7sX79erS1tUGpVOL999+X\n",
              "P6Lr7u4OHx8fOYwA4OzZsw6/3w+fPUVE45Wznz3FBxYOA0ODiMYrPrCQiIjGDYYGEREJY2gQEZEw\n",
              "hgYREQnjczOG4dHk1xF46NBYl0FENOp4pkFERMIYGkREJIyhQUREwhgaREQkjKFBRETCGBpERCSM\n",
              "oUFERMIYGkREJIyhQUREwhgaREQkjKFBRETCGBpERCSMoUFERMIYGkREJIyhQUREwhgaREQkjKFB\n",
              "RETCGBpERCRMIUmSNNZFTDTTkiMxY+3TY10GEVE//5O1z6nH55kGEREJY2gQEZEwhgYREQljaBAR\n",
              "kTCnhkZOTg7UajUUCgXq6+vldr1ej4iICISFhSEmJgYNDQ3yvoSEBMyfPx86nQ46nQ5FRUXyPkmS\n",
              "UFBQgMDAQISGhiIxMXHQsbu6upCSkgKNRoOQkBBUV1fL+/bu3Ysf/OAHcHFxwcmTJ0d0zkREk5mb\n",
              "Mw++evVq5ObmYsmSJXLbjRs3kJmZierqami1WtTU1CAzMxNNTU1yn6KiIqxatarf8Q4fPozGxkY0\n",
              "NTVBqVTCbDYPOnZeXh5iYmKg1+thMBiQlpaGtrY2uLu7IykpCWvXrsXGjRtHdL5ERJOdU0Nj6dKl\n",
              "/dpaWlqgUqmg1WoBAHFxcTCZTKirq8PChQvve7wDBw6gsrISSqUSAODj4zNo3xMnTqC5uRkAEBkZ\n",
              "iTlz5qCqqgpJSUmIiooa7pSIiB5qo76modFoYLFYcO7cOQBARUUFenp6YDQa5T55eXkIDQ3FmjVr\n",
              "0NraCgCwWq3o7OzEqVOnEB0djejoaJSWlg44hsViQW9vr0OoqNVqmEymIddrs9lgtVodNtzlrS1E\n",
              "9HBy6pnGQLy8vFBWVob8/HzcvHkTsbGxCA4OhpvbvVJKSkrg6+sLSZJw9OhRpKam4tKlS7Db7bDb\n",
              "7bh9+zbOnz8Po9GIRYsWISgoCOHh4U6rt7CwEDt37nRoc/ef47TxiIjGszH59FRiYiKqqqpw4cIF\n",
              "HDx4EFevXkVwcDAAwNfXFwCgUCiwZcsWtLa2wmKxYObMmZg2bRrWrVsH4N6Zw+LFi2EwGHDmzBl5\n",
              "4XzPnj1QqVRwc3NzWPMwGo3w8/Mbcq35+fno7u522JTzZ4/Aq0BENPGMSWh0dHTIP+/atQvLli1D\n",
              "QEAA7HY7Ojs75X3l5eXw9vaGSqUCAGRkZECv1wMArl+/jtraWoSFhSEpKQn19fWor6/H9u3bAQDp\n",
              "6ekoLi4GABgMBrS3tyM+Pn7ItXp4eGD69OkOG1wVw547EdFE5tRnT23evBmnT5+G2WyGSqWCp6cn\n",
              "mpubsWnTJtTU1MButyM2NhZHjhzBjBkzcOvWLcTHx8Nms8HFxQWzZs3CoUOH5MtPFosFWVlZ8jpH\n",
              "dnY2srOzBxy7s7MT69evR1tbG5RKJd5//335I7q7d+9GcXExrl27Bk9PT0yZMgUXL17EY489JjQv\n",
              "PnuKiMYrZz97ig8sHAaGBhGNV3xgIRERjRsMDSIiEsbQICIiYQwNIiISNuo3900GL2vjcMjJi01E\n",
              "ROMRzzSIiEgYQ4OIiIQxNIiISBhDg4iIhDE0iIhIGEODiIiEMTSIiEgYQ4OIiITx5r4hstls+P3v\n",
              "f4+7d+/C1dV1rMtxqrt376K2thZRUVGc6yTzMM2XcxUzb948vPbaa9/bj49GHyKr1QovLy90d3ff\n",
              "+0KmSYxznbwepvlyriOLl6eIiEgYQ4OIiIQxNIiISBhDY4g8PDzw9ttvw8PDY6xLcTrOdfJ6mObL\n",
              "uY4sLoQTEZEwnmkQEZEwhgYREQljaBARkTCGBhERCWNoDOLrr7/GokWLEBgYiMjISPz9738fsN+x\n",
              "Y8eg0WiwYMECbNq0Cb29vaNc6YMTmWtlZSWioqIQHBwMrVaL3Nxc9PX1jUG1D0b0vysASJKEZcuW\n",
              "YcaMGaNX4AgSnetXX32FhIQEPPnkk3jyySfx6aefjnKlD05krn19fdi6dSuCg4MRFhaGxMRENDc3\n",
              "j0G1DyYnJwdqtRoKhQL19fWD9nPae5NEA0pMTJR+/etfS5IkSb/97W+liIiIfn1aW1ul2bNnSx0d\n",
              "HVJfX5+0YsUK6f333x/lSh+cyFzr6uqklpYWSZIk6fbt29LixYvlfzORiMz1Pw4ePCi99NJLkpeX\n",
              "1+gUN8JE5nrr1i1p/vz5Uk1NjSRJkmS326Wurq7RLHNEiMz1s88+k6KioqQ7d+5IkiRJu3btktLT\n",
              "00ezzBFRVVUlffPNN9K8efOkixcvDtjHme9NDI0BdHZ2Sp6enlJvb68kSZLU19cneXt7S19//bVD\n",
              "v3feeUfavHmz/Pvp06elxYsXj2qtD0p0rv/tpz/9qfT222+PQoUjZyhzbWpqkuLi4qTm5uYJGRqi\n",
              "c/3444+ljIyMsShxxIjO9eTJk1J4eLhktVqlvr4+adu2bdLrr78+FiWPiPuFhjPfm3h5agDffPMN\n",
              "Zs+eDTe3ew8BVigU8PPzg8lkcuhnMpkwb948+Xe1Wt2vz3gnOtfvMpvNKCsrQ2pq6miVOSJE59rb\n",
              "24tNmzbhww8/nLBPRRWd66VLl+Dh4YHU1FTodDr8+Mc/xrVr18ai5GETneuKFSuQkJAAHx8fzJ49\n",
              "G2fPnsUvfvGLsSjZ6Zz53sTQoCGxWq1YsWIFcnNzERERMdblOMXOnTvx/PPP48knnxzrUpzObrfj\n",
              "zJkz+PDDD3Hx4kXMnTsXr7766liX5RR/+9vf0NTUhPb2dly9ehVPP/00XnnllbEua8JhaAzA19cX\n",
              "HR0dsNvtAO4tiJpMJvj5+Tn08/Pzw5UrV+TfjUZjvz7jnehcAaCnpwcpKSlYuXIltm7dOtqlPjDR\n",
              "uVZVVeHIkSNQq9VYsmQJrFYr1Gr1hPoLfCj/DycmJmLu3LlQKBRYt24d/vrXv45FycMmOtdPPvlE\n",
              "/mCDi4sLNmzYgD/96U9jUbLTOfO9iaExgMcffxwLFy7E8ePHAQDl5eV44oknEBAQ4NDvRz/6ESoq\n",
              "KmA2myFJEoqLi7F27dqxKHnYROd68+ZNpKSkICUlBW+99dZYlPrAROdaU1ODK1euwGg04s9//jOm\n",
              "T58Oo9GIxx57bCzKHhbRub7wwgswGAywWq0AgN/97ncIDw8f9XofhOhc/f39UVlZiTt37gAAPv/8\n",
              "c4SEhIx6vaPBqe9NI7IyMgldvnxZiomJkTQajfTUU09JjY2NkiRJ0k9+8hPp1KlTcr+PPvpI8vf3\n",
              "l/z9/aWNGzfKn8yYSETmunv3bsnNzU0KDw+Xt927d49l2cMi+t/1P9ra2ibkQrgkic/1k08+kbRa\n",
              "rRQaGiqlpKRIJpNprEoeNpG5/vvf/5ZeeuklKSgoSAoNDZWeeeYZ+ROBE8nLL78szZ07V3J1dZUe\n",
              "f/xxacGCBZIkjd57Ex9YSEREwnh5ioiIhDE0iIhIGEODiIiEMTSIiEgYQ4OIiIQxNIiISBhDg4iI\n",
              "hDE0iIhIGEODiIiEMTSIiEjY/wJIlEdYUqHtDwAAAABJRU5ErkJggg==\n",
              "\">\n",
              "        \n",
              "      </div>\n",
              "      <script></script>\n",
              "      <script type=\"text/javascript\">\n",
              "        (() => {\n",
              "          const chartElement = document.getElementById(\"chart-cda83013-7f50-4801-97f3-4978ac4a22bf\");\n",
              "          async function getCodeForChartHandler(event) {\n",
              "            const chartCodeResponse =  await google.colab.kernel.invokeFunction(\n",
              "                'getCodeForChart', [\"chart-cda83013-7f50-4801-97f3-4978ac4a22bf\"], {});\n",
              "            const responseJson = chartCodeResponse.data['application/json'];\n",
              "            await google.colab.notebook.addCell(responseJson.code, 'code');\n",
              "          }\n",
              "          chartElement.onclick = getCodeForChartHandler;\n",
              "        })();\n",
              "      </script>\n",
              "      <style>\n",
              "        .colab-quickchart-chart-with-code  {\n",
              "            display: block;\n",
              "            float: left;\n",
              "            border: 1px solid transparent;\n",
              "        }\n",
              "\n",
              "        .colab-quickchart-chart-with-code:hover {\n",
              "            cursor: pointer;\n",
              "            border: 1px solid #aaa;\n",
              "        }\n",
              "      </style>"
            ]
          },
          "metadata": {}
        },
        {
          "output_type": "display_data",
          "data": {
            "text/plain": [
              "<google.colab._quickchart_helpers.SectionTitle at 0x78120057dd20>"
            ],
            "text/html": [
              "<h4 class=\"colab-quickchart-section-title\">Faceted distributions</h4>\n",
              "<style>\n",
              "  .colab-quickchart-section-title {\n",
              "      clear: both;\n",
              "  }\n",
              "</style>"
            ]
          },
          "metadata": {}
        },
        {
          "output_type": "display_data",
          "data": {
            "text/plain": [
              "import numpy as np\n",
              "from google.colab import autoviz\n",
              "\n",
              "def violin_plot(df, value_colname, facet_colname, figscale=1, mpl_palette_name='Dark2', **kwargs):\n",
              "  from matplotlib import pyplot as plt\n",
              "  import seaborn as sns\n",
              "  figsize = (12 * figscale, 1.2 * figscale * len(df[facet_colname].unique()))\n",
              "  plt.figure(figsize=figsize)\n",
              "  sns.violinplot(df, x=value_colname, y=facet_colname, palette=mpl_palette_name, **kwargs)\n",
              "  sns.despine(top=True, right=True, bottom=True, left=True)\n",
              "  return autoviz.MplChart.from_current_mpl_state()\n",
              "\n",
              "chart = violin_plot(_df_3, *['Monthly beer production', 'Month'], **{'inner': 'stick'})\n",
              "chart"
            ],
            "text/html": [
              "      <div class=\"colab-quickchart-chart-with-code\" id=\"chart-142f28de-b7ff-4f62-822a-0b46c9795ff9\">\n",
              "        <img src=\"data:image/png;base64,iVBORw0KGgoAAAANSUhEUgAAAigAAAEaCAYAAAA7V6y+AAAAOXRFWHRTb2Z0d2FyZQBNYXRwbG90\n",
              "bGliIHZlcnNpb24zLjcuMSwgaHR0cHM6Ly9tYXRwbG90bGliLm9yZy/bCgiHAAAACXBIWXMAAA9h\n",
              "AAAPYQGoP6dpAAAm40lEQVR4nO3df1BVZ37H8c9FuBfjD8xiKnWrXrNgsiB4q/LDH4hX2WhXx6ij\n",
              "MZb4AzPGrWNNzBqDoxtNzQatHUmMSW0ak91oMoujRpm4pcYfERpnla4Cy27MLAhhSgUNWiEWrtz4\n",
              "9A8np0HBAIIc9P2auTNwnnPP870PZ/Qzz3nOuQ5jjBEAAICNBHR2AQAAADcjoAAAANshoAAAANsh\n",
              "oAAAANshoAAAANshoAAAANshoAAAANshoAAAANshoAAAANshoAAAANshoAAAANshoAAAANsJ7OwC\n",
              "AAC4FxljVF9fL0kKDg6Ww+Ho5Iq6FmZQAADoAPX19fJ6vfJ6vVZQQcsRUAAAgO0QUAAAgO0QUAAA\n",
              "gO0QUAAAgO0QUAAAgO0QUAAAgO0QUAAAgO0QUAAAgO0QUAAAgO0QUAAAgO0QUAAAgO0QUAAAgO0Q\n",
              "UAAAgO0QUAAAgO10aEBZvny53G63HA6H8vPzre3Z2dkaOXKkYmJilJCQoIKCAqtt/PjxGjx4sDwe\n",
              "jzwejzIyMqw2Y4zWr1+vIUOGKDo6Wl6vt9m+L1y4oMmTJysiIkJDhw5VTk6O1fbqq6/qkUceUUBA\n",
              "gPbv39+unxkAANy5wI48+KxZs7Rq1SqNHTvW2nb58mWlpKQoJydHUVFRys3NVUpKioqKiqx9MjIy\n",
              "NH369FuOt3XrVhUWFqqoqEhOp1OVlZXN9p2WlqaEhARlZ2crLy9PM2bMUGlpqYKCgpScnKwnn3xS\n",
              "ixYtatfPCwAA2keHBpRx48bdsq2kpEShoaGKioqSJCUmJqq8vFynT5/W8OHDb3u8zZs36+jRo3I6\n",
              "nZKksLCwZvfdvXu3iouLJUmxsbHq37+/jh8/ruTkZMXFxbX1IwEAgLvgrq9BiYiIUHV1tU6cOCFJ\n",
              "ysrKUm1trcrKyqx90tLSFB0drTlz5ujcuXOSpJqaGlVVVenAgQOKj49XfHy8MjMzm+yjurpaDQ0N\n",
              "jQKM2+1WeXl5q+v1+Xyqqalp9PL5fK0+DgAAaLm7HlBCQkK0Z88erV69WiNGjNChQ4cUGRmpwMAb\n",
              "kzk7d+7U2bNnVVhYqMTERE2dOlWS5Pf75ff7VVdXp5MnTyozM1MrVqxotH6lI6SnpyskJKTRKz09\n",
              "vUP7BADgftehl3ia4/V6rQWuPp9PYWFhioyMlCQNGDBAkuRwOLRs2TKtXLlS1dXVCg0NVc+ePfXU\n",
              "U09JujEjMmbMGOXl5enixYtauXKlJGn27Nlas2aNAgMDVVlZac2ilJWVaeDAga2udfXq1Xr++ecb\n",
              "bXO5XG374AAAoEU65Tbj8+fPWz9v2LBBEyZMUHh4uPx+v6qqqqy2vXv3ql+/fgoNDZUkzZ07V9nZ\n",
              "2ZKkS5cu6dSpU4qJiVFycrLy8/OVn5+vNWvWSLoRVLZv3y5JysvLU0VFhZKSklpdq8vlUu/evRu9\n",
              "CCgAAHQshzHGdNTBlyxZooMHD6qyslKhoaHq1auXiouLtXjxYuXm5srv92vUqFF644031KdPH129\n",
              "elVJSUny+XwKCAhQ3759tWXLFg0bNkzSjbUlqamp1rqUpUuXaunSpU32XVVVpXnz5qm0tFROp1Pb\n",
              "tm2zZm1eeeUVbd++XRcvXlSvXr0UHBysM2fO6KGHHuqooQAA3Gfq6uqs/3eOHTum7t27d3JFXUuH\n",
              "BhQAAO5XBJQ7w5NkAQCA7RBQAACA7RBQAACA7RBQAACA7RBQAACA7RBQAACA7RBQAACA7RBQAACA\n",
              "7RBQAACA7RBQAACA7RBQAACA7RBQAACA7RBQAACA7RBQAACA7TiMMaaziwAA4F5jjFF9fb0kKTg4\n",
              "WA6Ho5Mr6loIKAAAwHa4xAMAAGyHgAIAAGyHgAIAAGyHgAIAAGyHgAIAAGwnsLMLAAAA9mKHW6SZ\n",
              "QQEAAI3U19fL6/XK6/VaQeVuI6AAAADbIaAAAADbIaAAAADbIaAAAADbIaAAAADbIaAAAADbIaAA\n",
              "AADbIaAAAADbIaAAAADbIaAAAADbIaAAAADbIaAAAADbIaAAAADbIaAAAADb6dCAsnz5crndbjkc\n",
              "DuXn51vbs7OzNXLkSMXExCghIUEFBQVW2/jx4zV48GB5PB55PB5lZGRYbcYYrV+/XkOGDFF0dLS8\n",
              "Xm+zfV+4cEGTJ09WRESEhg4dqpycHKstNTVVQ4YM0bBhwzRmzBjl5eW17wcHAAB3JLAjDz5r1iyt\n",
              "WrVKY8eOtbZdvnxZKSkpysnJUVRUlHJzc5WSkqKioiJrn4yMDE2fPv2W423dulWFhYUqKiqS0+lU\n",
              "ZWVls32npaUpISFB2dnZysvL04wZM1RaWqqgoCDNmDFD//qv/6rAwEB9/PHHmj17tsrKytrzowMA\n",
              "gDvQoQFl3Lhxt2wrKSlRaGiooqKiJEmJiYkqLy/X6dOnNXz48Nseb/PmzTp69KicTqckKSwsrNl9\n",
              "d+/ereLiYklSbGys+vfvr+PHjys5OVnTpk2z9ktISFBFRYX8fr8CAzt0OAAAQAvd9TUoERERqq6u\n",
              "1okTJyRJWVlZqq2tbTSDkZaWpujoaM2ZM0fnzp2TJNXU1KiqqkoHDhxQfHy84uPjlZmZ2WQf1dXV\n",
              "amhoaBRg3G63ysvLb9n39ddf109/+tNmw4nP51NNTU2jl8/na+vHBwAALXDXA0pISIj27Nmj1atX\n",
              "a8SIETp06JAiIyOtgLBz506dPXtWhYWFSkxM1NSpUyVJfr9ffr9fdXV1OnnypDIzM7VixYpG61da\n",
              "a9euXdq9e7fefvvtZvdJT09XSEhIo1d6enqb+wQAAN/PYYwxHd2J2+3W/v375fF4bmnz+XwKCwtT\n",
              "Xl6ewsPDb2kPDg5WRUWFQkND1atXLxUUFOjhhx+WJM2ePVuTJk2S2+3WypUrrW1r1qxRjx49VFJS\n",
              "Ys2ixMXF6dVXX1VycrIkKTMzU2vXrtWRI0c0cODAZmv3+Xy3zJi4XC65XK42jQUAAHZXV1dn3Yhy\n",
              "7Ngxde/e/a7X0Cm3GZ8/f976ecOGDZowYYLCw8Pl9/tVVVVlte3du1f9+vVTaGioJGnu3LnKzs6W\n",
              "JF26dEmnTp1STEyMkpOTlZ+fr/z8fK1Zs0bSjaCyfft2SVJeXp4qKiqUlJQk6cb6lLVr1+rw4cO3\n",
              "DSfSjTDSu3fvRi/CCQAAHatDZ1CWLFmigwcPqrKy0poBKS4u1uLFi5Wbmyu/369Ro0bpjTfeUJ8+\n",
              "fXT16lUlJSXJ5/MpICBAffv21ZYtWzRs2DBJN9aWpKamWutSli5dqqVLlzbZd1VVlebNm6fS0lI5\n",
              "nU5t27bNSoNBQUEKCwuzgo8kHTlypNHvAADcr+wwg3JXLvEAAICuww4BhSfJAgAA2yGgAAAA2yGg\n",
              "AAAA2yGgAAAA2yGgAAAA2yGgAAAA2yGgAAAA2yGgAAAA2yGgAAAA2yGgAAAA2yGgAAAA2yGgAAAA\n",
              "2yGgAAAA2yGgAAAA2yGgAAAA23EYY0xnFwEAAOzDGKP6+npJUnBwsBwOx12vgYACAABsh0s8AADA\n",
              "dggoAADAdggoAADAdggoAADAdgI7uwAAANBx7HBHTlswgwIAwD2svr5eXq9XXq/XCipdAQEFAADY\n",
              "DgEFAADYDgEFAADYDgEFAADYDgEFAADYTqsDSnZ2th599FE5nU5169ZNAQEB6tatW0fUBgAA7lOt\n",
              "fg7K8uXL9cYbb2jUqFEEEwAA0CFaHVB69+6tSZMmdUQtAAAAktpwiWfq1Knav39/B5QCAABwQ4tn\n",
              "UB588EE5HA4ZY3TlyhV1795dLpdLxhg5HA5dunSpI+sEAAD3kRYHlPz8/A4sAwAA4P+1+BLPoEGD\n",
              "NGjQIO3cudP6+bvbAAAA2kur16Ds27evRdsAAADaqsWXeP793/9d2dnZqqio0PPPP29tv3LlSocU\n",
              "BgAA7l8tDijBwcHq06ePAgICFBISYm0fMGCAfvGLX3RIcQAA4P7kMMaY1ryhoKBAw4YNa9G+y5cv\n",
              "V1ZWlr788kudOXNGHo9H0o2n0a5du1bXrl3TAw88oH/5l3+xjjl+/Hh9+eWXVghasGCBVqxYIUky\n",
              "xujll1/Whx9+KJfLpb59++rYsWNN9n3hwgXNnz9fJSUlcrlceuuttzRu3DhJUmpqqn7/+98rICBA\n",
              "QUFB2rhxoyZOnNiaYQAAoEuoq6uT1+uVJB07dkzdu3fv5IpaptUPaouKilJmZqZKSkrk9/ut7S+9\n",
              "9NIt+86aNUurVq3S2LFjrW2XL19WSkqKcnJyFBUVpdzcXKWkpKioqMjaJyMjQ9OnT7/leFu3blVh\n",
              "YaGKiorkdDpVWVnZbJ1paWlKSEhQdna28vLyNGPGDJWWliooKEgZGRnq06ePJOnMmTOaOHGivvrq\n",
              "KwUE8NVEAADYQasDypNPPqnKykrFxcV976Puv52x+K6SkhKFhoYqKipKkpSYmKjy8nKdPn1aw4cP\n",
              "v+3xNm/erKNHj8rpdEqSwsLCmt139+7dKi4uliTFxsaqf//+On78uJKTk61wIn3/Ghqfzyefz9do\n",
              "m8vlksvluu37AABA27V6yuAPf/iDcnNztWXLFm3evNl6tVRERISqq6t14sQJSVJWVpZqa2tVVlZm\n",
              "7ZOWlqbo6GjNmTNH586dkyTV1NSoqqpKBw4cUHx8vOLj45WZmdlkH9XV1WpoaGgUYNxut8rLyxv1\n",
              "8aMf/UgzZ87U3r17m509SU9PV0hISKNXenp6iz8vAABovVbPoAwYMEDXrl1r8wxCSEiI9uzZo9Wr\n",
              "V+vrr7/WqFGjFBkZqcDAG6Xs3LlTAwYMkDFGb775pqZOnao//elP8vv98vv9qqur08mTJ1VWVqbR\n",
              "o0fr0UcfbfGamO/auHGjNm7cqMOHD2vVqlX67LPPrJmZ71q9enWju5YkMXsCAEAHa3VACQ8P1/jx\n",
              "4zVjxgwFBwdb25cvX97iY3i9XmvBjs/nU1hYmCIjIyXdCECS5HA4tGzZMq1cuVLV1dUKDQ1Vz549\n",
              "9dRTT0m6MSMyZswY5eXl6eLFi1q5cqUkafbs2VqzZo0CAwNVWVlpzaKUlZVp4MCBt9SSnJysZcuW\n",
              "6Q9/+INGjBhxSzuXcwAAuPtafYnH5/Pp0Ucf1eeff64zZ87ozJkzrX4M/vnz562fN2zYoAkTJig8\n",
              "PFx+v19VVVVW2969e9WvXz+FhoZKkubOnavs7GxJ0qVLl3Tq1CnFxMQoOTlZ+fn5ys/P15o1ayTd\n",
              "CCrbt2+XJOXl5amiokJJSUlqaGiw1qZI0qlTp3ThwgU9/PDDrR0KAADQQVp9m3FrLFmyRAcPHlRl\n",
              "ZaVCQ0PVq1cvFRcXa/HixcrNzZXf79eoUaP0xhtvqE+fPrp69aqSkpLk8/kUEBCgvn37asuWLdYl\n",
              "nOrqaqWmplrrUpYuXaqlS5c22XdVVZXmzZun0tJSOZ1Obdu2TV6vV//7v/+rn/zkJ7py5YoCAwPV\n",
              "o0cPKyQBAHCv6aq3Gbc6oPj9fmVkZOiTTz6RJE2aNEnPPvustYYEAADYR1cNKK1OFc8//7xKSkq0\n",
              "dOlSORwOvfPOO/ryyy+1devWjqgPAADch1odUD799FPl5+dbt+VOmTLle59fAgAA0BqtXiRrjNH1\n",
              "69cb/d6By1gAAMB9qNUzKJMnT9Zjjz2mhQsXSpLef/99TZ48ub3rAgAA97FWB5RNmzbp7bffVlZW\n",
              "lhwOh2bPnq1nnnmmI2oDAAD3qRbfxXPz01S/fZvD4ZAkbdmypZ1LAwAAd+qev4vntddeU2xsrCZP\n",
              "nsy3/gIAgA7V4oBy5MgRvfvuu/rwww/1xBNPaNGiRfrRj37UkbUBAID7VIunQrxer3bu3Knf//73\n",
              "GjhwoFJSUuT1enXy5MmOrA8AANyHWn2tpnfv3nr88cf1+OOP6+zZszp79mxH1AUAAO5jLQ4o33zz\n",
              "jT766CNNnTpVP/nJT9StWzedPn1aCxYs6Mj6AADAfajFa1B++MMfauDAgUpNTdWYMWMkSRcvXtTF\n",
              "ixclSTExMR1TIQAAuO+0OKAEBwfr4sWL+sd//Ec5HI5GT491OBzWNwwDAADcqRYHlLKysg4sAwAA\n",
              "4P+1+EFtAACg6zHGqL6+XtKNqyHfPmDV7ggoAADAdngkLAAAsB0CCgAAsB0CCgAAsB0CCgAAsJ0W\n",
              "32YM3K+66gp4AOjKmEEBvkd9fb28Xq+8Xq8VVAAAHYuAAgAAbIeAAgAAbIeAAgAAbIeAAgAAbIeA\n",
              "AgAAbIeAAgAAbIeAAgAAbIeAAgAAbIeAAgAAbIeAAgAAbIeAAgAAbIeAAgAAbIeAAgAAbIeAAgAA\n",
              "bIeAAgAAbKdDA8ry5cvldrvlcDiUn59vbc/OztbIkSMVExOjhIQEFRQUWG3jx4/X4MGD5fF45PF4\n",
              "lJGRYbUZY7R+/XoNGTJE0dHR8nq9zfZ94cIFTZ48WRERERo6dKhycnJu2efo0aPq1q2bXnvttXb5\n",
              "vAAAoH0EduTBZ82apVWrVmns2LHWtsuXLyslJUU5OTmKiopSbm6uUlJSVFRUZO2TkZGh6dOn33K8\n",
              "rVu3qrCwUEVFRXI6naqsrGy277S0NCUkJCg7O1t5eXmaMWOGSktLFRQUJEm6cuWK0tLS9NOf/rT9\n",
              "PjAAAGgXHTqDMm7cOP3VX/1Vo20lJSUKDQ1VVFSUJCkxMVHl5eU6ffr09x5v8+bN2rhxo5xOpyQp\n",
              "LCys2X13796tn/3sZ5Kk2NhY9e/fX8ePH7faly1bprVr1yo0NLTVnwsAAHSsu74GJSIiQtXV1Tpx\n",
              "4oQkKSsrS7W1tSorK7P2SUtLU3R0tObMmaNz585JkmpqalRVVaUDBw4oPj5e8fHxyszMbLKP6upq\n",
              "NTQ0NAowbrdb5eXlkqQ9e/YoICBA06ZN+956fT6fampqGr18Pl9bPz4AAGiBux5QQkJCtGfPHq1e\n",
              "vVojRozQoUOHFBkZqcDAG1ebdu7cqbNnz6qwsFCJiYmaOnWqJMnv98vv96uurk4nT55UZmamVqxY\n",
              "0Wj9SktUVlbqlVde0euvv96i/dPT0xUSEtLolZ6e3roPDQAAWsVhjDEd3Ynb7db+/fvl8XhuafP5\n",
              "fAoLC1NeXp7Cw8NvaQ8ODlZFRYVCQ0PVq1cvFRQU6OGHH5YkzZ49W5MmTZLb7dbKlSutbWvWrFGP\n",
              "Hj1UUlJizaLExcXp1Vdflc/n06JFi9S9e3dJ0ldffSWn06m/+7u/0y9/+csm67t5xsTlcsnlct3R\n",
              "mKDrqKursxZkHzt2zDp3AAAdp0MXyTbn/Pnz+su//EtJ0oYNGzRhwgSFh4fL7/erurpa/fr1kyTt\n",
              "3btX/fr1s9aJzJ07V9nZ2Vq6dKkuXbqkU6dO6YUXXlBcXFyju4SkG0Fl+/btWr9+vfLy8lRRUaGk\n",
              "pCQFBQWpqqrK2m/hwoXyeDx67rnnmqyVMAIAwN3XoQFlyZIlOnjwoCorKzVp0iT16tVLxcXFeuml\n",
              "l5Sbmyu/369Ro0Zpx44dkm7MVkyZMkU+n08BAQHq27evsrKyrOOlp6crNTVVb731liTpxRdfVFxc\n",
              "XJN9b9q0SfPmzVNERIScTqd27dpl3cEDAADs7a5c4gG6Mi7xAMDdx5NkAQCA7RBQAACA7RBQAACA\n",
              "7RBQAACA7RBQAACA7RBQAACA7RBQAACA7RBQAACA7RBQAACA7RBQAACA7RBQAACA7RBQAACA7RBQ\n",
              "AACA7RBQAACA7TiMMaaziwDszBij+vp6SVJwcLAcDkcnVwQA9z4CCgAAsB0u8QAAANshoAAAANsh\n",
              "oAAAANshoAAAANsJ7OwC7nfcIQIAwK2YQelk9fX18nq98nq9VlABAOB+R0ABAAC2Q0ABAAC2Q0AB\n",
              "AAC2Q0ABAAC2Q0ABAAC2Q0ABAAC2Q0ABAAC2Q0ABAAC2Q0ABAAC2Q0ABAAC2Q0ABAAC2Q0ABAAC2\n",
              "Q0ABAAC2Q0ABAAC2Q0ABAAC206EBZfny5XK73XI4HMrPz7e2Z2dna+TIkYqJiVFCQoIKCgqstvHj\n",
              "x2vw4MHyeDzyeDzKyMiw2owxWr9+vYYMGaLo6Gh5vd5m+75w4YImT56siIgIDR06VDk5OS3qAwAA\n",
              "dL7Ajjz4rFmztGrVKo0dO9badvnyZaWkpCgnJ0dRUVHKzc1VSkqKioqKrH0yMjI0ffr0W463detW\n",
              "FRYWqqioSE6nU5WVlc32nZaWpoSEBGVnZysvL08zZsxQaWmpgoKCbtsHAADofB0aUMaNG3fLtpKS\n",
              "EoWGhioqKkqSlJiYqPLycp0+fVrDhw+/7fE2b96so0ePyul0SpLCwsKa3Xf37t0qLi6WJMXGxqp/\n",
              "//46fvy4kpOT2/pxAADAXXLX16BERESourpaJ06ckCRlZWWptrZWZWVl1j5paWmKjo7WnDlzdO7c\n",
              "OUlSTU2NqqqqdODAAcXHxys+Pl6ZmZlN9lFdXa2GhoZGAcbtdqu8vPy2fTTF5/Oppqam0cvn893J\n",
              "EAAAgO9x1wNKSEiI9uzZo9WrV2vEiBE6dOiQIiMjFRh4YzJn586dOnv2rAoLC5WYmKipU6dKkvx+\n",
              "v/x+v+rq6nTy5EllZmZqxYoVjdavtFRzfTQlPT1dISEhjV7p6elt+/AAAKBFHMYY09GduN1u7d+/\n",
              "Xx6P55Y2n8+nsLAw5eXlKTw8/Jb24OBgVVRUKDQ0VL169VJBQYEefvhhSdLs2bM1adIkud1urVy5\n",
              "0tq2Zs0a9ejRQyUlJdYsSlxcnF599dUmL/F8t4+m6rt5xsTlcsnlcrV6HJpSV1dnLfY9duyYunfv\n",
              "3i7HBQCgK+uU24zPnz9v/bxhwwZNmDBB4eHh8vv9qqqqstr27t2rfv36WcFh7ty5ys7OliRdunRJ\n",
              "p06dUkxMjJKTk5Wfn6/8/HytWbNG0o2gsn37dklSXl6eKioqlJSU9L193Mzlcql3796NXu0VTgAA\n",
              "QNM6dJHskiVLdPDgQVVWVmrSpEnq1auXiouL9dJLLyk3N1d+v1+jRo3Sjh07JN2YrZgyZYp8Pp8C\n",
              "AgLUt29fZWVlWcdLT09Xamqq3nrrLUnSiy++qLi4uCb73rRpk+bNm6eIiAg5nU7t2rVLQUFBunr1\n",
              "6m37AAAAne+uXOJB87jEAwDArXiSLAAAsB0CCgAAsB0CCgAAsB0CCgAAsB0CCgAAsB0CCgAAsB0C\n",
              "CgAAsB0CCgAAsB0CCgAAsB0CCgAAsB0CCgAAsB0CCgAAsB0CCgAAsB0CCgAAsB2HMcZ0dhH3M2OM\n",
              "6uvrJUnBwcFyOBydXBEAAJ2PgAIAAGyHSzwAAMB2CCgAAMB2CCjtxOfzaf369fL5fJ1dyj2DMW1f\n",
              "jGf7YjzbF+PZvu6F8WQNSjupqalRSEiIrly5ot69e3d2OfcExrR9MZ7ti/FsX4xn+7oXxpMZFAAA\n",
              "YDsEFAAAYDsEFAAAYDsElHbicrm0bt06uVyuzi7lnsGYti/Gs30xnu2L8Wxf98J4skgWAADYDjMo\n",
              "AADAdggoAADAdggoAADAdggobVBdXS2Px2O9hgwZosDAQF26dEkXLlzQ5MmTFRERoaFDhyonJ6ez\n",
              "y7W9243n+PHjNXjwYKstIyOjs8vtEn77299q+PDh8ng8Gjp0qH79619LEufnHWhuTDlH2yY7O1sj\n",
              "R45UTEyMEhISVFBQIIlztK2aG88ufX4a3LHNmzebqVOnGmOMSU1NNevWrTPGGHPq1Cnzwx/+0Fy7\n",
              "dq0Tq+t6vjueSUlJ5qOPPurcgrqY69evmwcffNAUFBQYY4wpLS01LpfL1NTUcH620e3GlHO09S5d\n",
              "umR+8IMfmKKiImOMMTk5OSYqKsoYw7+hbXG78ezK5yczKO1gx44devrppyVJu3fv1s9+9jNJUmxs\n",
              "rPr376/jx493ZnldznfHE23jcDj0P//zP5JuPPI6NDRULpeL8/MONDemaL2SkhKFhoYqKipKkpSY\n",
              "mKjy8nKdPn2ac7QNbjeeXRkB5Q6dOHFCly9f1tSpU1VdXa2GhgaFhYVZ7W63W+Xl5Z1YYdfy3fH8\n",
              "VlpamqKjozVnzhydO3euE6vrGhwOhzIzMzVz5kwNGjRIY8eO1a9//WvV1tZyfrZRc2PqdDolcY62\n",
              "VkREhKqrq3XixAlJUlZWlmpra1VaWso52gbNjWdZWZmkrnt+ElDu0I4dOzR//nwFBgZ2din3hJvH\n",
              "c+fOnTp79qwKCwuVmJjYKLigaX6/X6+88or27dunL7/8UkeOHNG8efPk9/s7u7Quq7kx/eqrrzhH\n",
              "2yAkJER79uzR6tWrNWLECB06dEiRkZH6+uuvO7u0Lqm58QwMDOza52dnX2Pqympra03Pnj3N559/\n",
              "bm174IEHzPnz563fY2NjzSeffNIZ5XU5TY3nzVwul/nqq6/uYlVdT15enomIiGi0beTIkebQoUOc\n",
              "n210uzG9Gedo69XX15s+ffqYP//5z5yj7eC743mzrnR+MoNyBzIzMzVs2DA9+uij1rbZs2dr+/bt\n",
              "kqS8vDxVVFQoKSmps0rsUm4eT7/fr6qqKqt979696tevn0JDQzurxC5hwIABOn/+vD7//HNJUnFx\n",
              "sUpKSvTII49wfrbR7caUc7Rtzp8/b/28YcMGTZgwQeHh4ZyjbdTUeLrd7i59fnJd4g7s2LFDixcv\n",
              "brRt06ZNmjdvniIiIuR0OrVr1y4FBQV1UoVdy83j6fP5NGXKFPl8PgUEBKhv377KysrqxAq7hn79\n",
              "+untt9/WE088oYCAAF2/fl3btm3TwIEDOT/bqLkxDQ0NVVJSEudoG7z00kvKzc2V3+/XqFGjtGPH\n",
              "Dkn8G9pWTY1nV/83lO/iAQAAtsMlHgAAYDsEFAAAYDsEFOAe4Ha79Rd/8RdqaGiwth07dkwOh0PP\n",
              "PffcHR37008/VXZ2tvV7WVmZ+vTp0+z+332gWUuNHz9e+/fvb1uBNjNr1iz96le/avP78/Pz9Zvf\n",
              "/KbRNo/Ho9ra2jusDOhaCCjAPWLgwIGNFsDt2LFDI0eOvOPj3hxQuqI7eQbM3X5+TFMBJT8/X716\n",
              "9bqrdQCdjYAC3CNSU1P17rvvSpKuXLmi3/3ud5o8ebLV/s033+iFF17Q0KFDNXToUP393/+9rl27\n",
              "JklauHChlixZookTJ2rIkCGaOXOmrl27pvz8fG3fvl0ffPCBPB6P/uEf/sE63rp16zRixAiFh4fr\n",
              "t7/97S317NmzR4899lij/gcNGqQ//elPTdZ/5MgRxcbGKjw8XD//+c/17fr9yspKPfHEE4qLi1N0\n",
              "dLTWrl1rvefPf/6zpkyZotjYWMXExGjbtm1Wm8Ph0Lp16xQbG6vVq1ff0p/b7dYLL7xgfYbNmzc3\n",
              "anvxxRcVFxenBQsW6Ouvv9aiRYussXv55Zetfc+ePavRo0crKipK06dPV01NjdW2cOFCvfbaa9bv\n",
              "K1eu1Pr16yVJ165ds/4ew4YN0+TJk3XhwgW99NJLOnbsmDwej/XI9+/OSv3nf/6nRo8erZiYGMXF\n",
              "xemzzz6T9P8zW9/3dwG6jE5+DguAdjBo0CBz5swZExkZaSoqKsw///M/m7S0NLNu3Trz7LPPGmOM\n",
              "eeutt0xSUpKpr683DQ0N5m/+5m/Mxo0bjTHGLFiwwMTFxZmrV68av99vRo8ebT788ENjjGl0DGNu\n",
              "fFGeJLNnzx5jjDH/9m//ZoYMGWK1SzKXL182fr/fDBo0yJw9e9YYY8y+ffvMhAkTmqw/KSnJTJgw\n",
              "wVy7ds1cvXrVjBgxwnzwwQfGGGMee+wx8+mnnxpjjGloaDCTJk0yu3fvNn6/34wYMcJ6sN/Vq1dN\n",
              "dHS0OXXqlFXHyy+/fNsxmzdvnrl+/bq5ePGiGTBggPnss8+stqefftpcv37dGGPMqlWrzN/+7d+a\n",
              "b775xnz99dfG4/GY3/zmN8aYGw9se+edd4wxxhQWFhqn02nee+89a1wzMjKsPn/+859bX4S3fv16\n",
              "M23aNFNfX2+MMebChQvGGGPee+898/jjjzeq9dsx9fl8ZsCAASY7O9sYY0xubq7p16+fqa2t/d6/\n",
              "C9DVMIMC3EPmzZunX/3qV3r33Xe1aNGiRm2HDx/WwoUL5XK5FBgYqMWLF+uTTz6x2mfMmKEHHnhA\n",
              "3bp1U1xcnEpKSprtJzg4WDNnzpQkjRo1qsl9u3XrpqVLl+rNN9+UJL355ptatmxZs8ecP3++goKC\n",
              "9MADD+ipp57S4cOHdfXqVR05ckTPPvusPB6PRo4cqeLiYn3xxRf64osv9Mc//lFPPvmkPB6PRo8e\n",
              "rdra2kYzNDePwc2efvppORwO9e3bVzNnztThw4ettoULF8rhcFhjt3jxYgUEBKhHjx6aP3++Pvnk\n",
              "E9XU1Cg/P18LFy6UJEVHR2vs2LG37fNbH3/8sZ599lnrCwcfeuih733PF198oYCAAE2aNEmSNHbs\n",
              "WPXr10/5+fmSWvZ3AboKHtQG3EPmz5+v4cOHa8iQIYqIiLjtvt/+5/ut4OBg6+du3brddu2Fy+Wy\n",
              "3t+tWzd98803Te63ePFiRUZGav78+SouLta0adNa+lHkcDisyzy/+93vGtUnSX/84x/1gx/8wPrP\n",
              "uSk9e/ZscX/f9tmS9948ds21BQYGNhqb+vr6Vtf0fb7bX0v/LkBXwAwKcA/p37+/0tPTtWnTplva\n",
              "kpOT9f777+vatWvy+/165513Gq0RaU7v3r115cqVNtXz4IMP6vHHH9eMGTO0ZMkSdevWrdl9d+3a\n",
              "pYaGBtXV1enDDz9UcnKyevbsKa/Xq40bN1r7/fd//7f+67/+S4888oh69+6t9957z2orLi7WpUuX\n",
              "Wlzft3fbXLp0SR999JEmTpzY5H7JycnasWOHjDG6evWqdu7cqccee0y9e/fWX//1X+v999+XdCM0\n",
              "/cd//If1vvDwcJ06dUqSVF1d3WhNyLRp0/T666/L5/NJki5evCjp9uP9yCOP6Pr169bM14kTJ1RZ\n",
              "WSmPx9Pizwx0FQQU4B6TmpqqUaNG3bL9mWee0fDhwzV8+HB5PB653e4W3YI8Y8YM5efn37JItqUW\n",
              "L16sixcv3vK1EDf78Y9/rDFjxig6OlqJiYl68sknJUkffPCBiouLNXToUEVHR2vmzJmqrq5WYGCg\n",
              "Pv74Y+3bt08xMTGKiorS008/rbq6uhbX9tBDD2nEiBGKi4vTsmXLNHr06Cb3+8UvfqGgoCBFR0cr\n",
              "Pj5e06ZN0xNPPCFJev/99/X2229r6NChWrt2rcaNG2e975lnntHFixf14x//WPPnz1dCQoLV9uKL\n",
              "L2rIkCHW32PBggWSpIkTJ8rn8ykmJsZaJPstp9Opffv2ad26dYqJidFzzz2nPXv2tPusDGAHPOoe\n",
              "QIf6p3/6J33++efWd63Yhdvt1v79+5l9AGyKNSgAOkxUVJQcDkeXf44KgLuPGRQAAGA7rEEBAAC2\n",
              "Q0ABAAC2Q0ABAAC2Q0ABAAC2Q0ABAAC2Q0ABAAC2Q0ABAAC2Q0ABAAC2Q0ABAAC2838U0WwdtRaT\n",
              "agAAAABJRU5ErkJggg==\n",
              "\">\n",
              "        \n",
              "      </div>\n",
              "      <script></script>\n",
              "      <script type=\"text/javascript\">\n",
              "        (() => {\n",
              "          const chartElement = document.getElementById(\"chart-142f28de-b7ff-4f62-822a-0b46c9795ff9\");\n",
              "          async function getCodeForChartHandler(event) {\n",
              "            const chartCodeResponse =  await google.colab.kernel.invokeFunction(\n",
              "                'getCodeForChart', [\"chart-142f28de-b7ff-4f62-822a-0b46c9795ff9\"], {});\n",
              "            const responseJson = chartCodeResponse.data['application/json'];\n",
              "            await google.colab.notebook.addCell(responseJson.code, 'code');\n",
              "          }\n",
              "          chartElement.onclick = getCodeForChartHandler;\n",
              "        })();\n",
              "      </script>\n",
              "      <style>\n",
              "        .colab-quickchart-chart-with-code  {\n",
              "            display: block;\n",
              "            float: left;\n",
              "            border: 1px solid transparent;\n",
              "        }\n",
              "\n",
              "        .colab-quickchart-chart-with-code:hover {\n",
              "            cursor: pointer;\n",
              "            border: 1px solid #aaa;\n",
              "        }\n",
              "      </style>"
            ]
          },
          "metadata": {}
        }
      ]
    },
    {
      "cell_type": "code",
      "source": [
        "df.shape"
      ],
      "metadata": {
        "id": "BwLWAxvFN6ut",
        "outputId": "a52183f2-710f-4f9c-c6a5-a7935b0b118a",
        "colab": {
          "base_uri": "https://localhost:8080/"
        }
      },
      "execution_count": null,
      "outputs": [
        {
          "output_type": "execute_result",
          "data": {
            "text/plain": [
              "(476, 2)"
            ]
          },
          "metadata": {},
          "execution_count": 9
        }
      ]
    },
    {
      "cell_type": "code",
      "source": [
        "df.count"
      ],
      "metadata": {
        "id": "ygEEeuqXOF2v",
        "outputId": "809997d0-c412-4b6d-e2de-f6bb9d53b366",
        "colab": {
          "base_uri": "https://localhost:8080/"
        }
      },
      "execution_count": null,
      "outputs": [
        {
          "output_type": "execute_result",
          "data": {
            "text/plain": [
              "<bound method DataFrame.count of        Month  Monthly beer production\n",
              "0    1956-01                     93.2\n",
              "1    1956-02                     96.0\n",
              "2    1956-03                     95.2\n",
              "3    1956-04                     77.1\n",
              "4    1956-05                     70.9\n",
              "..       ...                      ...\n",
              "471  1995-04                    127.0\n",
              "472  1995-05                    151.0\n",
              "473  1995-06                    130.0\n",
              "474  1995-07                    119.0\n",
              "475  1995-08                    153.0\n",
              "\n",
              "[476 rows x 2 columns]>"
            ]
          },
          "metadata": {},
          "execution_count": 10
        }
      ]
    },
    {
      "cell_type": "code",
      "source": [
        "df.describe"
      ],
      "metadata": {
        "id": "-v2dtw7QOJ0Z",
        "outputId": "43e4354c-b09d-44a3-a713-e99156d71991",
        "colab": {
          "base_uri": "https://localhost:8080/"
        }
      },
      "execution_count": null,
      "outputs": [
        {
          "output_type": "execute_result",
          "data": {
            "text/plain": [
              "<bound method NDFrame.describe of        Month  Monthly beer production\n",
              "0    1956-01                     93.2\n",
              "1    1956-02                     96.0\n",
              "2    1956-03                     95.2\n",
              "3    1956-04                     77.1\n",
              "4    1956-05                     70.9\n",
              "..       ...                      ...\n",
              "471  1995-04                    127.0\n",
              "472  1995-05                    151.0\n",
              "473  1995-06                    130.0\n",
              "474  1995-07                    119.0\n",
              "475  1995-08                    153.0\n",
              "\n",
              "[476 rows x 2 columns]>"
            ]
          },
          "metadata": {},
          "execution_count": 18
        }
      ]
    },
    {
      "cell_type": "code",
      "source": [
        "df.columns\n"
      ],
      "metadata": {
        "id": "0x-nb6ICOe1k",
        "outputId": "729772bf-15d7-43d6-c9f3-58d503b7dc66",
        "colab": {
          "base_uri": "https://localhost:8080/"
        }
      },
      "execution_count": null,
      "outputs": [
        {
          "output_type": "execute_result",
          "data": {
            "text/plain": [
              "Index(['Month', 'Monthly beer production'], dtype='object')"
            ]
          },
          "metadata": {},
          "execution_count": 20
        }
      ]
    },
    {
      "cell_type": "code",
      "source": [
        "len(df)"
      ],
      "metadata": {
        "id": "wmgrxl29OvIm",
        "outputId": "37d212a3-a92f-450f-9902-074ca7d4d3c5",
        "colab": {
          "base_uri": "https://localhost:8080/"
        }
      },
      "execution_count": null,
      "outputs": [
        {
          "output_type": "execute_result",
          "data": {
            "text/plain": [
              "476"
            ]
          },
          "metadata": {},
          "execution_count": 21
        }
      ]
    },
    {
      "cell_type": "markdown",
      "source": [
        "**df.describe**: The command shows the table\n",
        "**df.columns:** Shows the name of columnms of the table\n",
        "**df.count:** It shows the production of each year\n",
        "**len(df)**: Shows the length of the table\n",
        "**df.shape:** It shows the length and breath of table"
      ],
      "metadata": {
        "id": "Y5QNWiFJPe0n"
      }
    },
    {
      "cell_type": "code",
      "source": [
        "import pandas as pd\n",
        "import matplotlib.pyplot as plt"
      ],
      "metadata": {
        "id": "zdFIamP96krp"
      },
      "execution_count": null,
      "outputs": []
    },
    {
      "cell_type": "code",
      "source": [
        "data = [[\"1956-01\",93.2],\n",
        "[\"1956-02\",96],\n",
        "[\"1956-03\",\t95.2],\n",
        "[\"1956-04\",\t77.1],\n",
        "[\"1956-05\",\t70.9],\n",
        "[\"1956-06\",\t64.8],\n",
        "[\"1956-07\",\t70.1],\n",
        "[\"1956-08\",\t77.3],\n",
        "[\"1956-09\",\t79.5],\n",
        "[\"1956-10\",\t100.6] ]\n",
        "\n",
        "# dataframe created with\n",
        "# the above data array\n",
        "df = pd.DataFrame(data, columns = ['Month', 'Monthly beer production'] )\n",
        "\n",
        "df.hist()\n",
        "\n",
        "# show plot\n",
        "plt.show()"
      ],
      "metadata": {
        "colab": {
          "base_uri": "https://localhost:8080/",
          "height": 452
        },
        "id": "2RvmdwY07CwL",
        "outputId": "c239fca8-9b3d-489c-87f6-b1720e612015"
      },
      "execution_count": null,
      "outputs": [
        {
          "output_type": "display_data",
          "data": {
            "text/plain": [
              "<Figure size 640x480 with 1 Axes>"
            ],
            "image/png": "[encoded data removed]"
          },
          "metadata": {}
        }
      ]
    },
    {
      "cell_type": "code",
      "source": [
        "data = [[\"1956-01\",93.2],\n",
        "[\"1956-02\",96],\n",
        "[\"1956-03\",\t95.2],\n",
        "[\"1956-04\",\t77.1],\n",
        "[\"1956-05\",\t70.9],\n",
        "[\"1956-06\",\t64.8],\n",
        "[\"1956-07\",\t70.1],\n",
        "[\"1956-08\",\t77.3],\n",
        "[\"1956-09\",\t79.5],\n",
        "[\"1956-10\",\t100.6] ]\n",
        "\n",
        "\n",
        "df = pd.DataFrame(data, columns = ['Month', 'Monthly beer production'] )\n",
        "\n",
        "df.plot.bar()\n",
        "\n",
        "# plot between 2 attributes\n",
        "plt.bar(df['Month'], df['Monthly beer production'])\n",
        "plt.xlabel(\"Month\")\n",
        "plt.ylabel(\"Monthly beer production\")\n",
        "plt.show()"
      ],
      "metadata": {
        "id": "XDRPsPKewNj8",
        "outputId": "529f05b8-4741-4791-b060-214a722a786b",
        "colab": {
          "base_uri": "https://localhost:8080/",
          "height": 444
        }
      },
      "execution_count": null,
      "outputs": [
        {
          "output_type": "display_data",
          "data": {
            "text/plain": [
              "<Figure size 640x480 with 1 Axes>"
            ],
            "image/png": "[encoded data removed]"
          },
          "metadata": {}
        }
      ]
    }
  ]
}